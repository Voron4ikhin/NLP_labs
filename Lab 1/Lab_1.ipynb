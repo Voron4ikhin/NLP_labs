{
  "nbformat": 4,
  "nbformat_minor": 0,
  "metadata": {
    "colab": {
      "name": "Lab 1.ipynb",
      "provenance": []
    },
    "kernelspec": {
      "name": "python3",
      "display_name": "Python 3"
    }
  },
  "cells": [
    {
      "cell_type": "markdown",
      "metadata": {
        "id": "rE61T7K9bvyE"
      },
      "source": [
        "# Импорт данных"
      ]
    },
    {
      "cell_type": "code",
      "metadata": {
        "id": "tdztnhSARCEH"
      },
      "source": [
        "#from google.colab import drive\n",
        "#drive.mount('/content/drive')"
      ],
      "execution_count": null,
      "outputs": []
    },
    {
      "cell_type": "code",
      "metadata": {
        "id": "1fYyLkWwVKaE"
      },
      "source": [
        "import pandas as pd\n",
        "import numpy as np"
      ],
      "execution_count": 3,
      "outputs": []
    },
    {
      "cell_type": "code",
      "metadata": {
        "id": "IOt7q0z3H_VH"
      },
      "source": [
        "print('Enter working directory, ending with the \\'/\\':')\n",
        "work_dir = input()"
      ],
      "execution_count": null,
      "outputs": []
    },
    {
      "cell_type": "code",
      "metadata": {
        "colab": {
          "base_uri": "https://localhost:8080/",
          "height": 551
        },
        "id": "Jbd99diWUm_2",
        "outputId": "8068febd-8314-4e4d-dbd4-b1505aeef5dc"
      },
      "source": [
        "data_train = pd.read_parquet(work_dir + 'train.parquet', engine='pyarrow')\n",
        "data_train.head(15)"
      ],
      "execution_count": 4,
      "outputs": [
        {
          "output_type": "execute_result",
          "data": {
            "text/html": [
              "<div>\n",
              "<style scoped>\n",
              "    .dataframe tbody tr th:only-of-type {\n",
              "        vertical-align: middle;\n",
              "    }\n",
              "\n",
              "    .dataframe tbody tr th {\n",
              "        vertical-align: top;\n",
              "    }\n",
              "\n",
              "    .dataframe thead th {\n",
              "        text-align: right;\n",
              "    }\n",
              "</style>\n",
              "<table border=\"1\" class=\"dataframe\">\n",
              "  <thead>\n",
              "    <tr style=\"text-align: right;\">\n",
              "      <th></th>\n",
              "      <th>Body</th>\n",
              "      <th>Tags</th>\n",
              "      <th>Title</th>\n",
              "      <th>target</th>\n",
              "    </tr>\n",
              "    <tr>\n",
              "      <th>Id</th>\n",
              "      <th></th>\n",
              "      <th></th>\n",
              "      <th></th>\n",
              "      <th></th>\n",
              "    </tr>\n",
              "  </thead>\n",
              "  <tbody>\n",
              "    <tr>\n",
              "      <th>34862324</th>\n",
              "      <td>Algorithmm:\\r\\n\\r\\n**input :** Graph G\\r\\n\\r\\n...</td>\n",
              "      <td>&lt;java&gt;&lt;algorithm&gt;&lt;graph-algorithm&gt;</td>\n",
              "      <td>I am implementing a Minimum Spanning Forrest a...</td>\n",
              "      <td>2</td>\n",
              "    </tr>\n",
              "    <tr>\n",
              "      <th>47303682</th>\n",
              "      <td>While converting the data frame to HTML, Date ...</td>\n",
              "      <td>&lt;html&gt;&lt;r&gt;&lt;dataframe&gt;</td>\n",
              "      <td>R Studio: Date is getting converted to number,...</td>\n",
              "      <td>2</td>\n",
              "    </tr>\n",
              "    <tr>\n",
              "      <th>46431243</th>\n",
              "      <td>&lt;p&gt;This should be an easy one, but somehow I c...</td>\n",
              "      <td>&lt;python&gt;&lt;pandas&gt;&lt;dataframe&gt;&lt;pandas-groupby&gt;</td>\n",
              "      <td>Pandas - dataframe groupby - how to get sum of...</td>\n",
              "      <td>0</td>\n",
              "    </tr>\n",
              "    <tr>\n",
              "      <th>45306324</th>\n",
              "      <td>&lt;p&gt;Let say I have a component in Angular 2 tha...</td>\n",
              "      <td>&lt;angular&gt;&lt;typescript&gt;&lt;rxjs&gt;</td>\n",
              "      <td>Casting results from Observable.forkJoin to th...</td>\n",
              "      <td>0</td>\n",
              "    </tr>\n",
              "    <tr>\n",
              "      <th>49479547</th>\n",
              "      <td>&lt;p&gt;I'm setting a var using \\n&lt;code&gt;set TEST_VA...</td>\n",
              "      <td>&lt;c&gt;&lt;windows&gt;&lt;batch-file&gt;</td>\n",
              "      <td>Environment variable set in batch file cannot ...</td>\n",
              "      <td>1</td>\n",
              "    </tr>\n",
              "    <tr>\n",
              "      <th>59665483</th>\n",
              "      <td>&lt;p&gt;I’m using uicollectionview in storyboard.&lt;/...</td>\n",
              "      <td>&lt;swift&gt;&lt;scroll&gt;&lt;uicollectionview&gt;&lt;uiscrollview...</td>\n",
              "      <td>How can i get how to scrolled it is in uicolle...</td>\n",
              "      <td>1</td>\n",
              "    </tr>\n",
              "    <tr>\n",
              "      <th>39300476</th>\n",
              "      <td>&lt;p&gt;When I compile my app with tsc I get this e...</td>\n",
              "      <td>&lt;angular&gt;</td>\n",
              "      <td>Angular2 TypeScript Directive error TS2345</td>\n",
              "      <td>0</td>\n",
              "    </tr>\n",
              "    <tr>\n",
              "      <th>37095617</th>\n",
              "      <td>&lt;p&gt;I’m using ubuntu 16.04 - 64 bit. I tried to...</td>\n",
              "      <td>&lt;dpkg&gt;&lt;staruml&gt;&lt;ubuntu-16.04&gt;</td>\n",
              "      <td>Can't install StarUML in Ubuntu 16.04</td>\n",
              "      <td>0</td>\n",
              "    </tr>\n",
              "    <tr>\n",
              "      <th>41727898</th>\n",
              "      <td>&lt;p&gt;For example: C:\\Users\\gabriel\\Desktop\\&lt;/p&gt;\\...</td>\n",
              "      <td>&lt;c#&gt;&lt;uwp&gt;</td>\n",
              "      <td>How to set the path of the folder to be create...</td>\n",
              "      <td>1</td>\n",
              "    </tr>\n",
              "    <tr>\n",
              "      <th>46209672</th>\n",
              "      <td>&lt;p&gt;I want to ask about turn on gps in android ...</td>\n",
              "      <td>&lt;android&gt;&lt;gps&gt;&lt;android-gps&gt;</td>\n",
              "      <td>Turn on/off gps using button without getting i...</td>\n",
              "      <td>1</td>\n",
              "    </tr>\n",
              "    <tr>\n",
              "      <th>36820057</th>\n",
              "      <td>\\r\\nI'm trying to make a program that outp...</td>\n",
              "      <td>&lt;c++&gt;&lt;switch-statement&gt;</td>\n",
              "      <td>Why the compiler doesn't let me use for loop w...</td>\n",
              "      <td>2</td>\n",
              "    </tr>\n",
              "    <tr>\n",
              "      <th>53713720</th>\n",
              "      <td>Here is the code. Its a send message Button. I...</td>\n",
              "      <td>&lt;java&gt;&lt;selenium&gt;&lt;selenium-webdriver&gt;&lt;xpath&gt;&lt;cs...</td>\n",
              "      <td>How can i select the locator from span and lin...</td>\n",
              "      <td>2</td>\n",
              "    </tr>\n",
              "    <tr>\n",
              "      <th>49156982</th>\n",
              "      <td>&lt;p&gt;So I want to build a small native mobile ap...</td>\n",
              "      <td>&lt;angularjs&gt;&lt;web-deployment&gt;&lt;nativescript&gt;&lt;mobi...</td>\n",
              "      <td>Is there a good VueJs native mobile platform?</td>\n",
              "      <td>1</td>\n",
              "    </tr>\n",
              "    <tr>\n",
              "      <th>35313134</th>\n",
              "      <td>&lt;p&gt;How can I assign a static IP address to a E...</td>\n",
              "      <td>&lt;amazon-web-services&gt;&lt;amazon-ec2&gt;&lt;amazon-elb&gt;&lt;...</td>\n",
              "      <td>Assigning Static IP Address to AWS Load Balancer</td>\n",
              "      <td>0</td>\n",
              "    </tr>\n",
              "    <tr>\n",
              "      <th>55571474</th>\n",
              "      <td>I am Beginner to perl programming and I want k...</td>\n",
              "      <td>&lt;regex&gt;&lt;perl&gt;&lt;text-processing&gt;&lt;dbi&gt;</td>\n",
              "      <td>How to extract the dynamically generated acces...</td>\n",
              "      <td>2</td>\n",
              "    </tr>\n",
              "  </tbody>\n",
              "</table>\n",
              "</div>"
            ],
            "text/plain": [
              "                                                       Body  ... target\n",
              "Id                                                           ...       \n",
              "34862324  Algorithmm:\\r\\n\\r\\n**input :** Graph G\\r\\n\\r\\n...  ...      2\n",
              "47303682  While converting the data frame to HTML, Date ...  ...      2\n",
              "46431243  <p>This should be an easy one, but somehow I c...  ...      0\n",
              "45306324  <p>Let say I have a component in Angular 2 tha...  ...      0\n",
              "49479547  <p>I'm setting a var using \\n<code>set TEST_VA...  ...      1\n",
              "59665483  <p>I’m using uicollectionview in storyboard.</...  ...      1\n",
              "39300476  <p>When I compile my app with tsc I get this e...  ...      0\n",
              "37095617  <p>I’m using ubuntu 16.04 - 64 bit. I tried to...  ...      0\n",
              "41727898  <p>For example: C:\\Users\\gabriel\\Desktop\\</p>\\...  ...      1\n",
              "46209672  <p>I want to ask about turn on gps in android ...  ...      1\n",
              "36820057      \\r\\nI'm trying to make a program that outp...  ...      2\n",
              "53713720  Here is the code. Its a send message Button. I...  ...      2\n",
              "49156982  <p>So I want to build a small native mobile ap...  ...      1\n",
              "35313134  <p>How can I assign a static IP address to a E...  ...      0\n",
              "55571474  I am Beginner to perl programming and I want k...  ...      2\n",
              "\n",
              "[15 rows x 4 columns]"
            ]
          },
          "metadata": {
            "tags": []
          },
          "execution_count": 4
        }
      ]
    },
    {
      "cell_type": "code",
      "metadata": {
        "colab": {
          "base_uri": "https://localhost:8080/",
          "height": 551
        },
        "id": "gi20sSKVVY1H",
        "outputId": "908ee09c-482f-49c6-908b-87454b347eb1"
      },
      "source": [
        "data_test = pd.read_parquet(work_dir + 'test.parquet', engine='pyarrow')\n",
        "data_test.head(15)"
      ],
      "execution_count": 5,
      "outputs": [
        {
          "output_type": "execute_result",
          "data": {
            "text/html": [
              "<div>\n",
              "<style scoped>\n",
              "    .dataframe tbody tr th:only-of-type {\n",
              "        vertical-align: middle;\n",
              "    }\n",
              "\n",
              "    .dataframe tbody tr th {\n",
              "        vertical-align: top;\n",
              "    }\n",
              "\n",
              "    .dataframe thead th {\n",
              "        text-align: right;\n",
              "    }\n",
              "</style>\n",
              "<table border=\"1\" class=\"dataframe\">\n",
              "  <thead>\n",
              "    <tr style=\"text-align: right;\">\n",
              "      <th></th>\n",
              "      <th>Body</th>\n",
              "      <th>Tags</th>\n",
              "      <th>Title</th>\n",
              "    </tr>\n",
              "    <tr>\n",
              "      <th>Id</th>\n",
              "      <th></th>\n",
              "      <th></th>\n",
              "      <th></th>\n",
              "    </tr>\n",
              "  </thead>\n",
              "  <tbody>\n",
              "    <tr>\n",
              "      <th>46785369</th>\n",
              "      <td>I was given a decision tree with sample data i...</td>\n",
              "      <td>&lt;math&gt;&lt;machine-learning&gt;&lt;artificial-intelligen...</td>\n",
              "      <td>Desecion trees ended up with same given tree a...</td>\n",
              "    </tr>\n",
              "    <tr>\n",
              "      <th>38908667</th>\n",
              "      <td>&lt;p&gt;I am moving a test application over to Xcod...</td>\n",
              "      <td>&lt;ios&gt;&lt;swift&gt;&lt;swift3&gt;&lt;xcode8&gt;&lt;nserror&gt;</td>\n",
              "      <td>Value of type 'Error' has no member 'code'</td>\n",
              "    </tr>\n",
              "    <tr>\n",
              "      <th>44703012</th>\n",
              "      <td>&lt;p&gt;I would like to be able to perform linting ...</td>\n",
              "      <td>&lt;jenkins&gt;&lt;jenkins-pipeline&gt;</td>\n",
              "      <td>How do I lint Jenkins pipelines from the comma...</td>\n",
              "    </tr>\n",
              "    <tr>\n",
              "      <th>34910435</th>\n",
              "      <td>&lt;p&gt;I’m using &lt;a href=\"https://github.com/ftlab...</td>\n",
              "      <td>&lt;javascript&gt;&lt;css&gt;&lt;mobile-safari&gt;&lt;fastclick.js&gt;...</td>\n",
              "      <td>Is there a way to prevent fastclick from firin...</td>\n",
              "    </tr>\n",
              "    <tr>\n",
              "      <th>51632121</th>\n",
              "      <td>I have some 5 Test cases and I want them to ke...</td>\n",
              "      <td>&lt;android&gt;&lt;testing&gt;&lt;appium&gt;&lt;katalon-studio&gt;</td>\n",
              "      <td>How to loop test cases in katalon Studio?</td>\n",
              "    </tr>\n",
              "    <tr>\n",
              "      <th>51606103</th>\n",
              "      <td>&lt;p&gt;I would like to use TensorFlow Transform to...</td>\n",
              "      <td>&lt;tensorflow&gt;&lt;word2vec&gt;&lt;apache-beam&gt;&lt;tensorflow...</td>\n",
              "      <td>Converting tokens to word vectors effectively ...</td>\n",
              "    </tr>\n",
              "    <tr>\n",
              "      <th>40083517</th>\n",
              "      <td>&lt;p&gt;I am fetching options for the dropdown menu...</td>\n",
              "      <td>&lt;javascript&gt;&lt;html&gt;&lt;css&gt;&lt;select2&gt;</td>\n",
              "      <td>How to remove lag when using more than 50,000 ...</td>\n",
              "    </tr>\n",
              "    <tr>\n",
              "      <th>46156990</th>\n",
              "      <td>i am using this xml file to create a page in a...</td>\n",
              "      <td>&lt;java&gt;&lt;android&gt;&lt;xml&gt;</td>\n",
              "      <td>Error on andriod xml layout</td>\n",
              "    </tr>\n",
              "    <tr>\n",
              "      <th>46216185</th>\n",
              "      <td>&lt;p&gt;I am trying to make a method which would ac...</td>\n",
              "      <td>&lt;angular&gt;&lt;typescript&gt;&lt;loader&gt;&lt;ngx-translate&gt;</td>\n",
              "      <td>ngx-translate .instant returns key instead of ...</td>\n",
              "    </tr>\n",
              "    <tr>\n",
              "      <th>35176091</th>\n",
              "      <td>&lt;p&gt;I have created a GRPC Server in C# using th...</td>\n",
              "      <td>&lt;c#&gt;&lt;grpc&gt;</td>\n",
              "      <td>How should a GRPC Service be hosted?</td>\n",
              "    </tr>\n",
              "    <tr>\n",
              "      <th>41592091</th>\n",
              "      <td>&lt;p&gt;Please bear with me. Pretty new to Docker.&lt;...</td>\n",
              "      <td>&lt;php&gt;&lt;symfony&gt;&lt;docker&gt;&lt;amazon-ec2&gt;&lt;doctrine-mi...</td>\n",
              "      <td>Run a database migration command when deployin...</td>\n",
              "    </tr>\n",
              "    <tr>\n",
              "      <th>47609056</th>\n",
              "      <td>Im new with postgresql and databases. \\r\\n\\r\\n...</td>\n",
              "      <td>&lt;sql&gt;&lt;postgresql&gt;</td>\n",
              "      <td>How to do this query in sql?</td>\n",
              "    </tr>\n",
              "    <tr>\n",
              "      <th>48048515</th>\n",
              "      <td>How to rewrite the my code into a function whi...</td>\n",
              "      <td>&lt;python&gt;&lt;function&gt;&lt;pandas&gt;&lt;nltk&gt;</td>\n",
              "      <td>Rewrite Nltk code to a function which can be u...</td>\n",
              "    </tr>\n",
              "    <tr>\n",
              "      <th>49749416</th>\n",
              "      <td>I have had an algorithm problem below: \\r\\n\\r\\...</td>\n",
              "      <td>&lt;javascript&gt;&lt;arrays&gt;&lt;algorithm&gt;</td>\n",
              "      <td>almost increasing sequence algorithm</td>\n",
              "    </tr>\n",
              "    <tr>\n",
              "      <th>56571857</th>\n",
              "      <td>&lt;p&gt;I am trying to write a reusable function th...</td>\n",
              "      <td>&lt;node.js&gt;&lt;mongodb&gt;&lt;async-await&gt;</td>\n",
              "      <td>How return a value from an async/await function</td>\n",
              "    </tr>\n",
              "  </tbody>\n",
              "</table>\n",
              "</div>"
            ],
            "text/plain": [
              "                                                       Body  ...                                              Title\n",
              "Id                                                           ...                                                   \n",
              "46785369  I was given a decision tree with sample data i...  ...  Desecion trees ended up with same given tree a...\n",
              "38908667  <p>I am moving a test application over to Xcod...  ...         Value of type 'Error' has no member 'code'\n",
              "44703012  <p>I would like to be able to perform linting ...  ...  How do I lint Jenkins pipelines from the comma...\n",
              "34910435  <p>I’m using <a href=\"https://github.com/ftlab...  ...  Is there a way to prevent fastclick from firin...\n",
              "51632121  I have some 5 Test cases and I want them to ke...  ...          How to loop test cases in katalon Studio?\n",
              "51606103  <p>I would like to use TensorFlow Transform to...  ...  Converting tokens to word vectors effectively ...\n",
              "40083517  <p>I am fetching options for the dropdown menu...  ...  How to remove lag when using more than 50,000 ...\n",
              "46156990  i am using this xml file to create a page in a...  ...                        Error on andriod xml layout\n",
              "46216185  <p>I am trying to make a method which would ac...  ...  ngx-translate .instant returns key instead of ...\n",
              "35176091  <p>I have created a GRPC Server in C# using th...  ...               How should a GRPC Service be hosted?\n",
              "41592091  <p>Please bear with me. Pretty new to Docker.<...  ...  Run a database migration command when deployin...\n",
              "47609056  Im new with postgresql and databases. \\r\\n\\r\\n...  ...                       How to do this query in sql?\n",
              "48048515  How to rewrite the my code into a function whi...  ...  Rewrite Nltk code to a function which can be u...\n",
              "49749416  I have had an algorithm problem below: \\r\\n\\r\\...  ...               almost increasing sequence algorithm\n",
              "56571857  <p>I am trying to write a reusable function th...  ...    How return a value from an async/await function\n",
              "\n",
              "[15 rows x 3 columns]"
            ]
          },
          "metadata": {
            "tags": []
          },
          "execution_count": 5
        }
      ]
    },
    {
      "cell_type": "markdown",
      "metadata": {
        "id": "cOs8IHpxb_DS"
      },
      "source": [
        "#Предобработка данных"
      ]
    },
    {
      "cell_type": "markdown",
      "metadata": {
        "id": "uVsI7V_kcR_K"
      },
      "source": [
        "##Токенизация"
      ]
    },
    {
      "cell_type": "code",
      "metadata": {
        "colab": {
          "base_uri": "https://localhost:8080/"
        },
        "id": "um9vLaPIj156",
        "outputId": "434ae09b-ffa6-41cb-844b-0702974ded53"
      },
      "source": [
        "from nltk import word_tokenize\n",
        "from nltk import download\n",
        "download('punkt')\n",
        "download('stopwords')\n",
        "from nltk.corpus import stopwords\n",
        "stop_words = set(stopwords.words('english'))\n",
        "\n",
        "def lower_tokenize_dataset(data):\n",
        "  for col in ['Body', 'Tags', 'Title']:\n",
        "    new_colname = 'token' + col\n",
        "    data[new_colname] = data.apply(lambda row: word_tokenize(row[col]), axis=1)\n",
        "    data[new_colname] = data.apply(lambda row: [word.lower() for word in row[new_colname] if word.isalpha()], axis=1)\n",
        "    data[new_colname] = data.apply(lambda row: [word for word in row[new_colname] if word not in stop_words], axis=1)"
      ],
      "execution_count": 6,
      "outputs": [
        {
          "output_type": "stream",
          "text": [
            "[nltk_data] Downloading package punkt to /root/nltk_data...\n",
            "[nltk_data]   Unzipping tokenizers/punkt.zip.\n",
            "[nltk_data] Downloading package stopwords to /root/nltk_data...\n",
            "[nltk_data]   Unzipping corpora/stopwords.zip.\n"
          ],
          "name": "stdout"
        }
      ]
    },
    {
      "cell_type": "code",
      "metadata": {
        "colab": {
          "base_uri": "https://localhost:8080/",
          "height": 881
        },
        "id": "XtTBzlABnVrn",
        "outputId": "3a657d88-8d63-481f-a2cc-eb8851143293"
      },
      "source": [
        "lower_tokenize_dataset(data_train)\n",
        "data_train.head(15)"
      ],
      "execution_count": 7,
      "outputs": [
        {
          "output_type": "execute_result",
          "data": {
            "text/html": [
              "<div>\n",
              "<style scoped>\n",
              "    .dataframe tbody tr th:only-of-type {\n",
              "        vertical-align: middle;\n",
              "    }\n",
              "\n",
              "    .dataframe tbody tr th {\n",
              "        vertical-align: top;\n",
              "    }\n",
              "\n",
              "    .dataframe thead th {\n",
              "        text-align: right;\n",
              "    }\n",
              "</style>\n",
              "<table border=\"1\" class=\"dataframe\">\n",
              "  <thead>\n",
              "    <tr style=\"text-align: right;\">\n",
              "      <th></th>\n",
              "      <th>Body</th>\n",
              "      <th>Tags</th>\n",
              "      <th>Title</th>\n",
              "      <th>target</th>\n",
              "      <th>tokenBody</th>\n",
              "      <th>tokenTags</th>\n",
              "      <th>tokenTitle</th>\n",
              "    </tr>\n",
              "    <tr>\n",
              "      <th>Id</th>\n",
              "      <th></th>\n",
              "      <th></th>\n",
              "      <th></th>\n",
              "      <th></th>\n",
              "      <th></th>\n",
              "      <th></th>\n",
              "      <th></th>\n",
              "    </tr>\n",
              "  </thead>\n",
              "  <tbody>\n",
              "    <tr>\n",
              "      <th>34862324</th>\n",
              "      <td>Algorithmm:\\r\\n\\r\\n**input :** Graph G\\r\\n\\r\\n...</td>\n",
              "      <td>&lt;java&gt;&lt;algorithm&gt;&lt;graph-algorithm&gt;</td>\n",
              "      <td>I am implementing a Minimum Spanning Forrest a...</td>\n",
              "      <td>2</td>\n",
              "      <td>[algorithmm, graph, g, set, msts, vertices, g,...</td>\n",
              "      <td>[java, algorithm]</td>\n",
              "      <td>[implementing, minimum, spanning, forrest, alg...</td>\n",
              "    </tr>\n",
              "    <tr>\n",
              "      <th>47303682</th>\n",
              "      <td>While converting the data frame to HTML, Date ...</td>\n",
              "      <td>&lt;html&gt;&lt;r&gt;&lt;dataframe&gt;</td>\n",
              "      <td>R Studio: Date is getting converted to number,...</td>\n",
              "      <td>2</td>\n",
              "      <td>[converting, data, frame, html, date, getting,...</td>\n",
              "      <td>[html, r, dataframe]</td>\n",
              "      <td>[r, studio, date, getting, converted, number, ...</td>\n",
              "    </tr>\n",
              "    <tr>\n",
              "      <th>46431243</th>\n",
              "      <td>&lt;p&gt;This should be an easy one, but somehow I c...</td>\n",
              "      <td>&lt;python&gt;&lt;pandas&gt;&lt;dataframe&gt;&lt;pandas-groupby&gt;</td>\n",
              "      <td>Pandas - dataframe groupby - how to get sum of...</td>\n",
              "      <td>0</td>\n",
              "      <td>[p, easy, one, somehow, could, find, solution,...</td>\n",
              "      <td>[python, pandas, dataframe]</td>\n",
              "      <td>[pandas, dataframe, groupby, get, sum, multipl...</td>\n",
              "    </tr>\n",
              "    <tr>\n",
              "      <th>45306324</th>\n",
              "      <td>&lt;p&gt;Let say I have a component in Angular 2 tha...</td>\n",
              "      <td>&lt;angular&gt;&lt;typescript&gt;&lt;rxjs&gt;</td>\n",
              "      <td>Casting results from Observable.forkJoin to th...</td>\n",
              "      <td>0</td>\n",
              "      <td>[p, let, say, component, angular, needs, load,...</td>\n",
              "      <td>[angular, typescript, rxjs]</td>\n",
              "      <td>[casting, results, respective, types, angular]</td>\n",
              "    </tr>\n",
              "    <tr>\n",
              "      <th>49479547</th>\n",
              "      <td>&lt;p&gt;I'm setting a var using \\n&lt;code&gt;set TEST_VA...</td>\n",
              "      <td>&lt;c&gt;&lt;windows&gt;&lt;batch-file&gt;</td>\n",
              "      <td>Environment variable set in batch file cannot ...</td>\n",
              "      <td>1</td>\n",
              "      <td>[p, setting, var, using, code, set, compiling,...</td>\n",
              "      <td>[c, windows]</td>\n",
              "      <td>[environment, variable, set, batch, file, acce...</td>\n",
              "    </tr>\n",
              "    <tr>\n",
              "      <th>59665483</th>\n",
              "      <td>&lt;p&gt;I’m using uicollectionview in storyboard.&lt;/...</td>\n",
              "      <td>&lt;swift&gt;&lt;scroll&gt;&lt;uicollectionview&gt;&lt;uiscrollview...</td>\n",
              "      <td>How can i get how to scrolled it is in uicolle...</td>\n",
              "      <td>1</td>\n",
              "      <td>[p, using, uicollectionview, p, uicollectionvi...</td>\n",
              "      <td>[swift, scroll, uicollectionview, uiscrollview...</td>\n",
              "      <td>[get, scrolled, uicollectionview]</td>\n",
              "    </tr>\n",
              "    <tr>\n",
              "      <th>39300476</th>\n",
              "      <td>&lt;p&gt;When I compile my app with tsc I get this e...</td>\n",
              "      <td>&lt;angular&gt;</td>\n",
              "      <td>Angular2 TypeScript Directive error TS2345</td>\n",
              "      <td>0</td>\n",
              "      <td>[p, compile, app, tsc, get, error, pre, code, ...</td>\n",
              "      <td>[angular]</td>\n",
              "      <td>[typescript, directive, error]</td>\n",
              "    </tr>\n",
              "    <tr>\n",
              "      <th>37095617</th>\n",
              "      <td>&lt;p&gt;I’m using ubuntu 16.04 - 64 bit. I tried to...</td>\n",
              "      <td>&lt;dpkg&gt;&lt;staruml&gt;&lt;ubuntu-16.04&gt;</td>\n",
              "      <td>Can't install StarUML in Ubuntu 16.04</td>\n",
              "      <td>0</td>\n",
              "      <td>[p, using, ubuntu, bit, tried, install, start,...</td>\n",
              "      <td>[dpkg, staruml]</td>\n",
              "      <td>[ca, install, staruml, ubuntu]</td>\n",
              "    </tr>\n",
              "    <tr>\n",
              "      <th>41727898</th>\n",
              "      <td>&lt;p&gt;For example: C:\\Users\\gabriel\\Desktop\\&lt;/p&gt;\\...</td>\n",
              "      <td>&lt;c#&gt;&lt;uwp&gt;</td>\n",
              "      <td>How to set the path of the folder to be create...</td>\n",
              "      <td>1</td>\n",
              "      <td>[p, example, c, p, creates, folder, desktop, p...</td>\n",
              "      <td>[c, uwp]</td>\n",
              "      <td>[set, path, folder, created, uwp, c]</td>\n",
              "    </tr>\n",
              "    <tr>\n",
              "      <th>46209672</th>\n",
              "      <td>&lt;p&gt;I want to ask about turn on gps in android ...</td>\n",
              "      <td>&lt;android&gt;&lt;gps&gt;&lt;android-gps&gt;</td>\n",
              "      <td>Turn on/off gps using button without getting i...</td>\n",
              "      <td>1</td>\n",
              "      <td>[p, want, ask, turn, gps, android, without, ge...</td>\n",
              "      <td>[android, gps]</td>\n",
              "      <td>[turn, gps, using, button, without, getting, s...</td>\n",
              "    </tr>\n",
              "    <tr>\n",
              "      <th>36820057</th>\n",
              "      <td>\\r\\nI'm trying to make a program that outp...</td>\n",
              "      <td>&lt;c++&gt;&lt;switch-statement&gt;</td>\n",
              "      <td>Why the compiler doesn't let me use for loop w...</td>\n",
              "      <td>2</td>\n",
              "      <td>[trying, make, program, outputs, used, charact...</td>\n",
              "      <td>[]</td>\n",
              "      <td>[compiler, let, use, loop, switch]</td>\n",
              "    </tr>\n",
              "    <tr>\n",
              "      <th>53713720</th>\n",
              "      <td>Here is the code. Its a send message Button. I...</td>\n",
              "      <td>&lt;java&gt;&lt;selenium&gt;&lt;selenium-webdriver&gt;&lt;xpath&gt;&lt;cs...</td>\n",
              "      <td>How can i select the locator from span and lin...</td>\n",
              "      <td>2</td>\n",
              "      <td>[code, send, message, button, tried, many, way...</td>\n",
              "      <td>[java, selenium, xpath]</td>\n",
              "      <td>[select, locator, span, link, text]</td>\n",
              "    </tr>\n",
              "    <tr>\n",
              "      <th>49156982</th>\n",
              "      <td>&lt;p&gt;So I want to build a small native mobile ap...</td>\n",
              "      <td>&lt;angularjs&gt;&lt;web-deployment&gt;&lt;nativescript&gt;&lt;mobi...</td>\n",
              "      <td>Is there a good VueJs native mobile platform?</td>\n",
              "      <td>1</td>\n",
              "      <td>[p, want, build, small, native, mobile, app, u...</td>\n",
              "      <td>[angularjs, nativescript, weex]</td>\n",
              "      <td>[good, vuejs, native, mobile, platform]</td>\n",
              "    </tr>\n",
              "    <tr>\n",
              "      <th>35313134</th>\n",
              "      <td>&lt;p&gt;How can I assign a static IP address to a E...</td>\n",
              "      <td>&lt;amazon-web-services&gt;&lt;amazon-ec2&gt;&lt;amazon-elb&gt;&lt;...</td>\n",
              "      <td>Assigning Static IP Address to AWS Load Balancer</td>\n",
              "      <td>0</td>\n",
              "      <td>[p, assign, static, ip, address, elb, seems, l...</td>\n",
              "      <td>[]</td>\n",
              "      <td>[assigning, static, ip, address, aws, load, ba...</td>\n",
              "    </tr>\n",
              "    <tr>\n",
              "      <th>55571474</th>\n",
              "      <td>I am Beginner to perl programming and I want k...</td>\n",
              "      <td>&lt;regex&gt;&lt;perl&gt;&lt;text-processing&gt;&lt;dbi&gt;</td>\n",
              "      <td>How to extract the dynamically generated acces...</td>\n",
              "      <td>2</td>\n",
              "      <td>[beginner, perl, programming, want, know, solu...</td>\n",
              "      <td>[regex, perl, dbi]</td>\n",
              "      <td>[extract, dynamically, generated, access, toke...</td>\n",
              "    </tr>\n",
              "  </tbody>\n",
              "</table>\n",
              "</div>"
            ],
            "text/plain": [
              "                                                       Body  ...                                         tokenTitle\n",
              "Id                                                           ...                                                   \n",
              "34862324  Algorithmm:\\r\\n\\r\\n**input :** Graph G\\r\\n\\r\\n...  ...  [implementing, minimum, spanning, forrest, alg...\n",
              "47303682  While converting the data frame to HTML, Date ...  ...  [r, studio, date, getting, converted, number, ...\n",
              "46431243  <p>This should be an easy one, but somehow I c...  ...  [pandas, dataframe, groupby, get, sum, multipl...\n",
              "45306324  <p>Let say I have a component in Angular 2 tha...  ...     [casting, results, respective, types, angular]\n",
              "49479547  <p>I'm setting a var using \\n<code>set TEST_VA...  ...  [environment, variable, set, batch, file, acce...\n",
              "59665483  <p>I’m using uicollectionview in storyboard.</...  ...                  [get, scrolled, uicollectionview]\n",
              "39300476  <p>When I compile my app with tsc I get this e...  ...                     [typescript, directive, error]\n",
              "37095617  <p>I’m using ubuntu 16.04 - 64 bit. I tried to...  ...                     [ca, install, staruml, ubuntu]\n",
              "41727898  <p>For example: C:\\Users\\gabriel\\Desktop\\</p>\\...  ...               [set, path, folder, created, uwp, c]\n",
              "46209672  <p>I want to ask about turn on gps in android ...  ...  [turn, gps, using, button, without, getting, s...\n",
              "36820057      \\r\\nI'm trying to make a program that outp...  ...                 [compiler, let, use, loop, switch]\n",
              "53713720  Here is the code. Its a send message Button. I...  ...                [select, locator, span, link, text]\n",
              "49156982  <p>So I want to build a small native mobile ap...  ...            [good, vuejs, native, mobile, platform]\n",
              "35313134  <p>How can I assign a static IP address to a E...  ...  [assigning, static, ip, address, aws, load, ba...\n",
              "55571474  I am Beginner to perl programming and I want k...  ...  [extract, dynamically, generated, access, toke...\n",
              "\n",
              "[15 rows x 7 columns]"
            ]
          },
          "metadata": {
            "tags": []
          },
          "execution_count": 7
        }
      ]
    },
    {
      "cell_type": "code",
      "metadata": {
        "colab": {
          "base_uri": "https://localhost:8080/",
          "height": 829
        },
        "id": "CpnzHFpFNRwq",
        "outputId": "137d8e4a-3e47-4082-e7fd-6ef913a5e709"
      },
      "source": [
        "lower_tokenize_dataset(data_test)\n",
        "data_test.head(15)"
      ],
      "execution_count": 8,
      "outputs": [
        {
          "output_type": "execute_result",
          "data": {
            "text/html": [
              "<div>\n",
              "<style scoped>\n",
              "    .dataframe tbody tr th:only-of-type {\n",
              "        vertical-align: middle;\n",
              "    }\n",
              "\n",
              "    .dataframe tbody tr th {\n",
              "        vertical-align: top;\n",
              "    }\n",
              "\n",
              "    .dataframe thead th {\n",
              "        text-align: right;\n",
              "    }\n",
              "</style>\n",
              "<table border=\"1\" class=\"dataframe\">\n",
              "  <thead>\n",
              "    <tr style=\"text-align: right;\">\n",
              "      <th></th>\n",
              "      <th>Body</th>\n",
              "      <th>Tags</th>\n",
              "      <th>Title</th>\n",
              "      <th>tokenBody</th>\n",
              "      <th>tokenTags</th>\n",
              "      <th>tokenTitle</th>\n",
              "    </tr>\n",
              "    <tr>\n",
              "      <th>Id</th>\n",
              "      <th></th>\n",
              "      <th></th>\n",
              "      <th></th>\n",
              "      <th></th>\n",
              "      <th></th>\n",
              "      <th></th>\n",
              "    </tr>\n",
              "  </thead>\n",
              "  <tbody>\n",
              "    <tr>\n",
              "      <th>46785369</th>\n",
              "      <td>I was given a decision tree with sample data i...</td>\n",
              "      <td>&lt;math&gt;&lt;machine-learning&gt;&lt;artificial-intelligen...</td>\n",
              "      <td>Desecion trees ended up with same given tree a...</td>\n",
              "      <td>[given, decision, tree, sample, data, class, s...</td>\n",
              "      <td>[math, entropy]</td>\n",
              "      <td>[desecion, trees, ended, given, tree, computat...</td>\n",
              "    </tr>\n",
              "    <tr>\n",
              "      <th>38908667</th>\n",
              "      <td>&lt;p&gt;I am moving a test application over to Xcod...</td>\n",
              "      <td>&lt;ios&gt;&lt;swift&gt;&lt;swift3&gt;&lt;xcode8&gt;&lt;nserror&gt;</td>\n",
              "      <td>Value of type 'Error' has no member 'code'</td>\n",
              "      <td>[p, moving, test, application, xcode, beta, co...</td>\n",
              "      <td>[ios, swift, nserror]</td>\n",
              "      <td>[value, type, member]</td>\n",
              "    </tr>\n",
              "    <tr>\n",
              "      <th>44703012</th>\n",
              "      <td>&lt;p&gt;I would like to be able to perform linting ...</td>\n",
              "      <td>&lt;jenkins&gt;&lt;jenkins-pipeline&gt;</td>\n",
              "      <td>How do I lint Jenkins pipelines from the comma...</td>\n",
              "      <td>[p, would, like, able, perform, linting, jenki...</td>\n",
              "      <td>[jenkins]</td>\n",
              "      <td>[lint, jenkins, pipelines, command, line]</td>\n",
              "    </tr>\n",
              "    <tr>\n",
              "      <th>34910435</th>\n",
              "      <td>&lt;p&gt;I’m using &lt;a href=\"https://github.com/ftlab...</td>\n",
              "      <td>&lt;javascript&gt;&lt;css&gt;&lt;mobile-safari&gt;&lt;fastclick.js&gt;...</td>\n",
              "      <td>Is there a way to prevent fastclick from firin...</td>\n",
              "      <td>[p, using, https, fastclick, page, large, link...</td>\n",
              "      <td>[javascript, css, fastclick]</td>\n",
              "      <td>[way, prevent, fastclick, firing, active, stat...</td>\n",
              "    </tr>\n",
              "    <tr>\n",
              "      <th>51632121</th>\n",
              "      <td>I have some 5 Test cases and I want them to ke...</td>\n",
              "      <td>&lt;android&gt;&lt;testing&gt;&lt;appium&gt;&lt;katalon-studio&gt;</td>\n",
              "      <td>How to loop test cases in katalon Studio?</td>\n",
              "      <td>[test, cases, want, keep, running, times, orde...</td>\n",
              "      <td>[android, testing, appium]</td>\n",
              "      <td>[loop, test, cases, katalon, studio]</td>\n",
              "    </tr>\n",
              "    <tr>\n",
              "      <th>51606103</th>\n",
              "      <td>&lt;p&gt;I would like to use TensorFlow Transform to...</td>\n",
              "      <td>&lt;tensorflow&gt;&lt;word2vec&gt;&lt;apache-beam&gt;&lt;tensorflow...</td>\n",
              "      <td>Converting tokens to word vectors effectively ...</td>\n",
              "      <td>[p, would, like, use, tensorflow, transform, c...</td>\n",
              "      <td>[tensorflow, glove]</td>\n",
              "      <td>[converting, tokens, word, vectors, effectivel...</td>\n",
              "    </tr>\n",
              "    <tr>\n",
              "      <th>40083517</th>\n",
              "      <td>&lt;p&gt;I am fetching options for the dropdown menu...</td>\n",
              "      <td>&lt;javascript&gt;&lt;html&gt;&lt;css&gt;&lt;select2&gt;</td>\n",
              "      <td>How to remove lag when using more than 50,000 ...</td>\n",
              "      <td>[p, fetching, options, dropdown, menu, databas...</td>\n",
              "      <td>[javascript, html, css]</td>\n",
              "      <td>[remove, lag, using, options, select, tag, html]</td>\n",
              "    </tr>\n",
              "    <tr>\n",
              "      <th>46156990</th>\n",
              "      <td>i am using this xml file to create a page in a...</td>\n",
              "      <td>&lt;java&gt;&lt;android&gt;&lt;xml&gt;</td>\n",
              "      <td>Error on andriod xml layout</td>\n",
              "      <td>[using, xml, file, create, page, android, xml,...</td>\n",
              "      <td>[java, android, xml]</td>\n",
              "      <td>[error, andriod, xml, layout]</td>\n",
              "    </tr>\n",
              "    <tr>\n",
              "      <th>46216185</th>\n",
              "      <td>&lt;p&gt;I am trying to make a method which would ac...</td>\n",
              "      <td>&lt;angular&gt;&lt;typescript&gt;&lt;loader&gt;&lt;ngx-translate&gt;</td>\n",
              "      <td>ngx-translate .instant returns key instead of ...</td>\n",
              "      <td>[p, trying, make, method, would, accept, strin...</td>\n",
              "      <td>[angular, typescript, loader]</td>\n",
              "      <td>[returns, key, instead, value]</td>\n",
              "    </tr>\n",
              "    <tr>\n",
              "      <th>35176091</th>\n",
              "      <td>&lt;p&gt;I have created a GRPC Server in C# using th...</td>\n",
              "      <td>&lt;c#&gt;&lt;grpc&gt;</td>\n",
              "      <td>How should a GRPC Service be hosted?</td>\n",
              "      <td>[p, created, grpc, server, c, using, example, ...</td>\n",
              "      <td>[c, grpc]</td>\n",
              "      <td>[grpc, service, hosted]</td>\n",
              "    </tr>\n",
              "    <tr>\n",
              "      <th>41592091</th>\n",
              "      <td>&lt;p&gt;Please bear with me. Pretty new to Docker.&lt;...</td>\n",
              "      <td>&lt;php&gt;&lt;symfony&gt;&lt;docker&gt;&lt;amazon-ec2&gt;&lt;doctrine-mi...</td>\n",
              "      <td>Run a database migration command when deployin...</td>\n",
              "      <td>[p, please, bear, pretty, new, p, deploying, d...</td>\n",
              "      <td>[php, symfony, docker]</td>\n",
              "      <td>[run, database, migration, command, deploying,...</td>\n",
              "    </tr>\n",
              "    <tr>\n",
              "      <th>47609056</th>\n",
              "      <td>Im new with postgresql and databases. \\r\\n\\r\\n...</td>\n",
              "      <td>&lt;sql&gt;&lt;postgresql&gt;</td>\n",
              "      <td>How to do this query in sql?</td>\n",
              "      <td>[im, new, postgresql, databases, three, tables...</td>\n",
              "      <td>[sql, postgresql]</td>\n",
              "      <td>[query, sql]</td>\n",
              "    </tr>\n",
              "    <tr>\n",
              "      <th>48048515</th>\n",
              "      <td>How to rewrite the my code into a function whi...</td>\n",
              "      <td>&lt;python&gt;&lt;function&gt;&lt;pandas&gt;&lt;nltk&gt;</td>\n",
              "      <td>Rewrite Nltk code to a function which can be u...</td>\n",
              "      <td>[rewrite, code, function, called, tong, chung,...</td>\n",
              "      <td>[python, function, pandas, nltk]</td>\n",
              "      <td>[rewrite, nltk, code, function, used, multiple...</td>\n",
              "    </tr>\n",
              "    <tr>\n",
              "      <th>49749416</th>\n",
              "      <td>I have had an algorithm problem below: \\r\\n\\r\\...</td>\n",
              "      <td>&lt;javascript&gt;&lt;arrays&gt;&lt;algorithm&gt;</td>\n",
              "      <td>almost increasing sequence algorithm</td>\n",
              "      <td>[algorithm, problem, given, sequence, integers...</td>\n",
              "      <td>[javascript, arrays, algorithm]</td>\n",
              "      <td>[almost, increasing, sequence, algorithm]</td>\n",
              "    </tr>\n",
              "    <tr>\n",
              "      <th>56571857</th>\n",
              "      <td>&lt;p&gt;I am trying to write a reusable function th...</td>\n",
              "      <td>&lt;node.js&gt;&lt;mongodb&gt;&lt;async-await&gt;</td>\n",
              "      <td>How return a value from an async/await function</td>\n",
              "      <td>[p, trying, write, reusable, function, return,...</td>\n",
              "      <td>[mongodb]</td>\n",
              "      <td>[return, value, function]</td>\n",
              "    </tr>\n",
              "  </tbody>\n",
              "</table>\n",
              "</div>"
            ],
            "text/plain": [
              "                                                       Body  ...                                         tokenTitle\n",
              "Id                                                           ...                                                   \n",
              "46785369  I was given a decision tree with sample data i...  ...  [desecion, trees, ended, given, tree, computat...\n",
              "38908667  <p>I am moving a test application over to Xcod...  ...                              [value, type, member]\n",
              "44703012  <p>I would like to be able to perform linting ...  ...          [lint, jenkins, pipelines, command, line]\n",
              "34910435  <p>I’m using <a href=\"https://github.com/ftlab...  ...  [way, prevent, fastclick, firing, active, stat...\n",
              "51632121  I have some 5 Test cases and I want them to ke...  ...               [loop, test, cases, katalon, studio]\n",
              "51606103  <p>I would like to use TensorFlow Transform to...  ...  [converting, tokens, word, vectors, effectivel...\n",
              "40083517  <p>I am fetching options for the dropdown menu...  ...   [remove, lag, using, options, select, tag, html]\n",
              "46156990  i am using this xml file to create a page in a...  ...                      [error, andriod, xml, layout]\n",
              "46216185  <p>I am trying to make a method which would ac...  ...                     [returns, key, instead, value]\n",
              "35176091  <p>I have created a GRPC Server in C# using th...  ...                            [grpc, service, hosted]\n",
              "41592091  <p>Please bear with me. Pretty new to Docker.<...  ...  [run, database, migration, command, deploying,...\n",
              "47609056  Im new with postgresql and databases. \\r\\n\\r\\n...  ...                                       [query, sql]\n",
              "48048515  How to rewrite the my code into a function whi...  ...  [rewrite, nltk, code, function, used, multiple...\n",
              "49749416  I have had an algorithm problem below: \\r\\n\\r\\...  ...          [almost, increasing, sequence, algorithm]\n",
              "56571857  <p>I am trying to write a reusable function th...  ...                          [return, value, function]\n",
              "\n",
              "[15 rows x 6 columns]"
            ]
          },
          "metadata": {
            "tags": []
          },
          "execution_count": 8
        }
      ]
    },
    {
      "cell_type": "markdown",
      "metadata": {
        "id": "f8BQ6AiFcbA2"
      },
      "source": [
        "##POS tagging, лемматизация"
      ]
    },
    {
      "cell_type": "markdown",
      "metadata": {
        "id": "sSboBSsHMIqQ"
      },
      "source": [
        "Определим принадлежность каждого слова к определённой части речи, чтобы была возможность применить `WordNetLemmatizer`. Для нас представляют интерес только **самостоятельные** части речи."
      ]
    },
    {
      "cell_type": "code",
      "metadata": {
        "colab": {
          "base_uri": "https://localhost:8080/"
        },
        "id": "vI4_OI9sNq7y",
        "outputId": "806f7c62-5593-4ec6-f649-7ce56c0357f0"
      },
      "source": [
        "from nltk import pos_tag\n",
        "from nltk.stem import WordNetLemmatizer\n",
        "from nltk.corpus import wordnet\n",
        "download('wordnet')\n",
        "download('averaged_perceptron_tagger')\n",
        "\n",
        "# Deal with various forms of particular POS' (e.g. gerund forms are still verbs)\n",
        "def get_wordnet_pos(tag):\n",
        "  if tag.startswith('N'):\n",
        "    return wordnet.NOUN\n",
        "  elif tag.startswith('J'):\n",
        "    return wordnet.ADJ\n",
        "  elif tag.startswith('V'):\n",
        "    return wordnet.VERB\n",
        "  elif tag.startswith('R'):\n",
        "    return wordnet.ADV\n",
        "  else:\n",
        "    return None\n",
        "\n",
        "def lemmatize_wordvec(wordvec):\n",
        "  res_wordvec = []\n",
        "  lemmatizer = WordNetLemmatizer()\n",
        "  for item in pos_tag(wordvec):\n",
        "    word = item[0]\n",
        "    pos = get_wordnet_pos(item[1])\n",
        "    if pos != None:\n",
        "      res_wordvec.append(lemmatizer.lemmatize(word, pos=pos))\n",
        "  return res_wordvec\n",
        "\n",
        "def lemmatize_dataset(data):\n",
        "  for col in ['tokenBody', 'tokenTags', 'tokenTitle']:\n",
        "    new_colname = col.replace('token', 'lemmatized')\n",
        "    data[new_colname] = data.apply(lambda row: lemmatize_wordvec(row[col]), axis=1)"
      ],
      "execution_count": 9,
      "outputs": [
        {
          "output_type": "stream",
          "text": [
            "[nltk_data] Downloading package wordnet to /root/nltk_data...\n",
            "[nltk_data]   Unzipping corpora/wordnet.zip.\n",
            "[nltk_data] Downloading package averaged_perceptron_tagger to\n",
            "[nltk_data]     /root/nltk_data...\n",
            "[nltk_data]   Unzipping taggers/averaged_perceptron_tagger.zip.\n"
          ],
          "name": "stdout"
        }
      ]
    },
    {
      "cell_type": "code",
      "metadata": {
        "colab": {
          "base_uri": "https://localhost:8080/",
          "height": 970
        },
        "id": "A3DrTIGGm5v-",
        "outputId": "322e9601-2155-4802-99df-6cacd5247428"
      },
      "source": [
        "lemmatize_dataset(data_train)\n",
        "data_train.head(10)"
      ],
      "execution_count": 98,
      "outputs": [
        {
          "output_type": "execute_result",
          "data": {
            "text/html": [
              "<div>\n",
              "<style scoped>\n",
              "    .dataframe tbody tr th:only-of-type {\n",
              "        vertical-align: middle;\n",
              "    }\n",
              "\n",
              "    .dataframe tbody tr th {\n",
              "        vertical-align: top;\n",
              "    }\n",
              "\n",
              "    .dataframe thead th {\n",
              "        text-align: right;\n",
              "    }\n",
              "</style>\n",
              "<table border=\"1\" class=\"dataframe\">\n",
              "  <thead>\n",
              "    <tr style=\"text-align: right;\">\n",
              "      <th></th>\n",
              "      <th>Body</th>\n",
              "      <th>Tags</th>\n",
              "      <th>Title</th>\n",
              "      <th>target</th>\n",
              "      <th>tokenBody</th>\n",
              "      <th>tokenTags</th>\n",
              "      <th>tokenTitle</th>\n",
              "      <th>lemmatizedBody</th>\n",
              "      <th>lemmatizedTags</th>\n",
              "      <th>lemmatizedTitle</th>\n",
              "      <th>hasTags</th>\n",
              "      <th>titleLength</th>\n",
              "      <th>bodyLength</th>\n",
              "      <th>lemmatizedBodyText</th>\n",
              "      <th>lemmatizedTitleText</th>\n",
              "      <th>lemmatizedTagsText</th>\n",
              "    </tr>\n",
              "    <tr>\n",
              "      <th>Id</th>\n",
              "      <th></th>\n",
              "      <th></th>\n",
              "      <th></th>\n",
              "      <th></th>\n",
              "      <th></th>\n",
              "      <th></th>\n",
              "      <th></th>\n",
              "      <th></th>\n",
              "      <th></th>\n",
              "      <th></th>\n",
              "      <th></th>\n",
              "      <th></th>\n",
              "      <th></th>\n",
              "      <th></th>\n",
              "      <th></th>\n",
              "      <th></th>\n",
              "    </tr>\n",
              "  </thead>\n",
              "  <tbody>\n",
              "    <tr>\n",
              "      <th>34862324</th>\n",
              "      <td>Algorithmm:\\r\\n\\r\\n**input :** Graph G\\r\\n\\r\\n...</td>\n",
              "      <td>&lt;java&gt;&lt;algorithm&gt;&lt;graph-algorithm&gt;</td>\n",
              "      <td>I am implementing a Minimum Spanning Forrest a...</td>\n",
              "      <td>2</td>\n",
              "      <td>[algorithmm, graph, g, set, msts, vertices, g,...</td>\n",
              "      <td>[java, algorithm]</td>\n",
              "      <td>[implementing, minimum, spanning, forrest, alg...</td>\n",
              "      <td>[algorithmm, graph, g, set, mst, vertex, g, cr...</td>\n",
              "      <td>[java, algorithm]</td>\n",
              "      <td>[implement, minimum, span, forrest, algorihm, ...</td>\n",
              "      <td>True</td>\n",
              "      <td>9</td>\n",
              "      <td>43</td>\n",
              "      <td>algorithmm graph g set mst vertex g create tre...</td>\n",
              "      <td>implement minimum span forrest algorihm java s...</td>\n",
              "      <td>java algorithm</td>\n",
              "    </tr>\n",
              "    <tr>\n",
              "      <th>47303682</th>\n",
              "      <td>While converting the data frame to HTML, Date ...</td>\n",
              "      <td>&lt;html&gt;&lt;r&gt;&lt;dataframe&gt;</td>\n",
              "      <td>R Studio: Date is getting converted to number,...</td>\n",
              "      <td>2</td>\n",
              "      <td>[converting, data, frame, html, date, getting,...</td>\n",
              "      <td>[html, r, dataframe]</td>\n",
              "      <td>[r, studio, date, getting, converted, number, ...</td>\n",
              "      <td>[convert, data, frame, html, date, get, conver...</td>\n",
              "      <td>[html, r, dataframe]</td>\n",
              "      <td>[r, studio, date, get, converted, number, make...</td>\n",
              "      <td>True</td>\n",
              "      <td>9</td>\n",
              "      <td>10</td>\n",
              "      <td>convert data frame html date get convert numbe...</td>\n",
              "      <td>r studio date get converted number make html d...</td>\n",
              "      <td>html r dataframe</td>\n",
              "    </tr>\n",
              "    <tr>\n",
              "      <th>46431243</th>\n",
              "      <td>&lt;p&gt;This should be an easy one, but somehow I c...</td>\n",
              "      <td>&lt;python&gt;&lt;pandas&gt;&lt;dataframe&gt;&lt;pandas-groupby&gt;</td>\n",
              "      <td>Pandas - dataframe groupby - how to get sum of...</td>\n",
              "      <td>0</td>\n",
              "      <td>[p, easy, one, somehow, could, find, solution,...</td>\n",
              "      <td>[python, pandas, dataframe]</td>\n",
              "      <td>[pandas, dataframe, groupby, get, sum, multipl...</td>\n",
              "      <td>[p, easy, somehow, find, solution, p, panda, d...</td>\n",
              "      <td>[python, panda, dataframe]</td>\n",
              "      <td>[panda, dataframe, groupby, get, sum, multiple...</td>\n",
              "      <td>True</td>\n",
              "      <td>7</td>\n",
              "      <td>67</td>\n",
              "      <td>easy somehow find solution panda dataframe loo...</td>\n",
              "      <td>panda dataframe groupby get sum multiple column</td>\n",
              "      <td>python panda dataframe</td>\n",
              "    </tr>\n",
              "    <tr>\n",
              "      <th>45306324</th>\n",
              "      <td>&lt;p&gt;Let say I have a component in Angular 2 tha...</td>\n",
              "      <td>&lt;angular&gt;&lt;typescript&gt;&lt;rxjs&gt;</td>\n",
              "      <td>Casting results from Observable.forkJoin to th...</td>\n",
              "      <td>0</td>\n",
              "      <td>[p, let, say, component, angular, needs, load,...</td>\n",
              "      <td>[angular, typescript, rxjs]</td>\n",
              "      <td>[casting, results, respective, types, angular]</td>\n",
              "      <td>[p, let, say, component, angular, need, load, ...</td>\n",
              "      <td>[angular, typescript, rxjs]</td>\n",
              "      <td>[cast, result, respective, type, angular]</td>\n",
              "      <td>True</td>\n",
              "      <td>5</td>\n",
              "      <td>99</td>\n",
              "      <td>let say component angular need load different ...</td>\n",
              "      <td>cast result respective type angular</td>\n",
              "      <td>angular typescript rxjs</td>\n",
              "    </tr>\n",
              "    <tr>\n",
              "      <th>49479547</th>\n",
              "      <td>&lt;p&gt;I'm setting a var using \\n&lt;code&gt;set TEST_VA...</td>\n",
              "      <td>&lt;c&gt;&lt;windows&gt;&lt;batch-file&gt;</td>\n",
              "      <td>Environment variable set in batch file cannot ...</td>\n",
              "      <td>1</td>\n",
              "      <td>[p, setting, var, using, code, set, compiling,...</td>\n",
              "      <td>[c, windows]</td>\n",
              "      <td>[environment, variable, set, batch, file, acce...</td>\n",
              "      <td>[p, set, var, use, code, set, compile, c, code...</td>\n",
              "      <td>[c, window]</td>\n",
              "      <td>[environment, variable, set, batch, file, acce...</td>\n",
              "      <td>True</td>\n",
              "      <td>10</td>\n",
              "      <td>12</td>\n",
              "      <td>set var use code set compile c code error find...</td>\n",
              "      <td>environment variable set batch file access c c...</td>\n",
              "      <td>c window</td>\n",
              "    </tr>\n",
              "    <tr>\n",
              "      <th>59665483</th>\n",
              "      <td>&lt;p&gt;I’m using uicollectionview in storyboard.&lt;/...</td>\n",
              "      <td>&lt;swift&gt;&lt;scroll&gt;&lt;uicollectionview&gt;&lt;uiscrollview...</td>\n",
              "      <td>How can i get how to scrolled it is in uicolle...</td>\n",
              "      <td>1</td>\n",
              "      <td>[p, using, uicollectionview, p, uicollectionvi...</td>\n",
              "      <td>[swift, scroll, uicollectionview, uiscrollview...</td>\n",
              "      <td>[get, scrolled, uicollectionview]</td>\n",
              "      <td>[p, use, uicollectionview, p, uicollectionview...</td>\n",
              "      <td>[swift, scroll, uicollectionview, uiscrollview...</td>\n",
              "      <td>[get, scroll, uicollectionview]</td>\n",
              "      <td>True</td>\n",
              "      <td>3</td>\n",
              "      <td>13</td>\n",
              "      <td>use uicollectionview uicollectionview scroll w...</td>\n",
              "      <td>get scroll uicollectionview</td>\n",
              "      <td>swift scroll uicollectionview uiscrollview uis...</td>\n",
              "    </tr>\n",
              "    <tr>\n",
              "      <th>39300476</th>\n",
              "      <td>&lt;p&gt;When I compile my app with tsc I get this e...</td>\n",
              "      <td>&lt;angular&gt;</td>\n",
              "      <td>Angular2 TypeScript Directive error TS2345</td>\n",
              "      <td>0</td>\n",
              "      <td>[p, compile, app, tsc, get, error, pre, code, ...</td>\n",
              "      <td>[angular]</td>\n",
              "      <td>[typescript, directive, error]</td>\n",
              "      <td>[p, compile, app, tsc, get, error, pre, code, ...</td>\n",
              "      <td>[angular]</td>\n",
              "      <td>[typescript, directive, error]</td>\n",
              "      <td>True</td>\n",
              "      <td>3</td>\n",
              "      <td>97</td>\n",
              "      <td>compile app tsc get error pre code error argum...</td>\n",
              "      <td>typescript directive error</td>\n",
              "      <td>angular</td>\n",
              "    </tr>\n",
              "    <tr>\n",
              "      <th>37095617</th>\n",
              "      <td>&lt;p&gt;I’m using ubuntu 16.04 - 64 bit. I tried to...</td>\n",
              "      <td>&lt;dpkg&gt;&lt;staruml&gt;&lt;ubuntu-16.04&gt;</td>\n",
              "      <td>Can't install StarUML in Ubuntu 16.04</td>\n",
              "      <td>0</td>\n",
              "      <td>[p, using, ubuntu, bit, tried, install, start,...</td>\n",
              "      <td>[dpkg, staruml]</td>\n",
              "      <td>[ca, install, staruml, ubuntu]</td>\n",
              "      <td>[p, use, ubuntu, bit, try, install, start, uml...</td>\n",
              "      <td>[dpkg, staruml]</td>\n",
              "      <td>[install, staruml, ubuntu]</td>\n",
              "      <td>True</td>\n",
              "      <td>3</td>\n",
              "      <td>73</td>\n",
              "      <td>use ubuntu bit try install start uml file get ...</td>\n",
              "      <td>install staruml ubuntu</td>\n",
              "      <td>dpkg staruml</td>\n",
              "    </tr>\n",
              "    <tr>\n",
              "      <th>41727898</th>\n",
              "      <td>&lt;p&gt;For example: C:\\Users\\gabriel\\Desktop\\&lt;/p&gt;\\...</td>\n",
              "      <td>&lt;c#&gt;&lt;uwp&gt;</td>\n",
              "      <td>How to set the path of the folder to be create...</td>\n",
              "      <td>1</td>\n",
              "      <td>[p, example, c, p, creates, folder, desktop, p...</td>\n",
              "      <td>[c, uwp]</td>\n",
              "      <td>[set, path, folder, created, uwp, c]</td>\n",
              "      <td>[p, example, c, p, create, folder, desktop, p,...</td>\n",
              "      <td>[c, uwp]</td>\n",
              "      <td>[set, path, folder, create, uwp, c]</td>\n",
              "      <td>True</td>\n",
              "      <td>6</td>\n",
              "      <td>15</td>\n",
              "      <td>example c create folder desktop code idea want...</td>\n",
              "      <td>set path folder create uwp c</td>\n",
              "      <td>c uwp</td>\n",
              "    </tr>\n",
              "    <tr>\n",
              "      <th>46209672</th>\n",
              "      <td>&lt;p&gt;I want to ask about turn on gps in android ...</td>\n",
              "      <td>&lt;android&gt;&lt;gps&gt;&lt;android-gps&gt;</td>\n",
              "      <td>Turn on/off gps using button without getting i...</td>\n",
              "      <td>1</td>\n",
              "      <td>[p, want, ask, turn, gps, android, without, ge...</td>\n",
              "      <td>[android, gps]</td>\n",
              "      <td>[turn, gps, using, button, without, getting, s...</td>\n",
              "      <td>[p, want, ask, turn, gps, android, get, set, m...</td>\n",
              "      <td>[android, gps]</td>\n",
              "      <td>[turn, gps, use, button, get, set, menu]</td>\n",
              "      <td>True</td>\n",
              "      <td>7</td>\n",
              "      <td>12</td>\n",
              "      <td>want ask turn gps android get set menu method ...</td>\n",
              "      <td>turn gps use button get set menu</td>\n",
              "      <td>android gps</td>\n",
              "    </tr>\n",
              "  </tbody>\n",
              "</table>\n",
              "</div>"
            ],
            "text/plain": [
              "                                                       Body  ...                                 lemmatizedTagsText\n",
              "Id                                                           ...                                                   \n",
              "34862324  Algorithmm:\\r\\n\\r\\n**input :** Graph G\\r\\n\\r\\n...  ...                                     java algorithm\n",
              "47303682  While converting the data frame to HTML, Date ...  ...                                   html r dataframe\n",
              "46431243  <p>This should be an easy one, but somehow I c...  ...                             python panda dataframe\n",
              "45306324  <p>Let say I have a component in Angular 2 tha...  ...                            angular typescript rxjs\n",
              "49479547  <p>I'm setting a var using \\n<code>set TEST_VA...  ...                                           c window\n",
              "59665483  <p>I’m using uicollectionview in storyboard.</...  ...  swift scroll uicollectionview uiscrollview uis...\n",
              "39300476  <p>When I compile my app with tsc I get this e...  ...                                            angular\n",
              "37095617  <p>I’m using ubuntu 16.04 - 64 bit. I tried to...  ...                                       dpkg staruml\n",
              "41727898  <p>For example: C:\\Users\\gabriel\\Desktop\\</p>\\...  ...                                              c uwp\n",
              "46209672  <p>I want to ask about turn on gps in android ...  ...                                        android gps\n",
              "\n",
              "[10 rows x 16 columns]"
            ]
          },
          "metadata": {
            "tags": []
          },
          "execution_count": 98
        }
      ]
    },
    {
      "cell_type": "code",
      "metadata": {
        "colab": {
          "base_uri": "https://localhost:8080/",
          "height": 1000
        },
        "id": "q-OGtUHawD90",
        "outputId": "4fd96e4e-1279-43ab-88e5-204ea27959da"
      },
      "source": [
        "lemmatize_dataset(data_test)\n",
        "data_test.head(10)"
      ],
      "execution_count": 99,
      "outputs": [
        {
          "output_type": "execute_result",
          "data": {
            "text/html": [
              "<div>\n",
              "<style scoped>\n",
              "    .dataframe tbody tr th:only-of-type {\n",
              "        vertical-align: middle;\n",
              "    }\n",
              "\n",
              "    .dataframe tbody tr th {\n",
              "        vertical-align: top;\n",
              "    }\n",
              "\n",
              "    .dataframe thead th {\n",
              "        text-align: right;\n",
              "    }\n",
              "</style>\n",
              "<table border=\"1\" class=\"dataframe\">\n",
              "  <thead>\n",
              "    <tr style=\"text-align: right;\">\n",
              "      <th></th>\n",
              "      <th>Body</th>\n",
              "      <th>Tags</th>\n",
              "      <th>Title</th>\n",
              "      <th>tokenBody</th>\n",
              "      <th>tokenTags</th>\n",
              "      <th>tokenTitle</th>\n",
              "      <th>lemmatizedBody</th>\n",
              "      <th>lemmatizedTags</th>\n",
              "      <th>lemmatizedTitle</th>\n",
              "      <th>lemmatizedBodyText</th>\n",
              "      <th>lemmatizedTitleText</th>\n",
              "      <th>lemmatizedTagsText</th>\n",
              "      <th>LogReg_target</th>\n",
              "      <th>RandForest_target</th>\n",
              "      <th>SVM_target</th>\n",
              "    </tr>\n",
              "    <tr>\n",
              "      <th>Id</th>\n",
              "      <th></th>\n",
              "      <th></th>\n",
              "      <th></th>\n",
              "      <th></th>\n",
              "      <th></th>\n",
              "      <th></th>\n",
              "      <th></th>\n",
              "      <th></th>\n",
              "      <th></th>\n",
              "      <th></th>\n",
              "      <th></th>\n",
              "      <th></th>\n",
              "      <th></th>\n",
              "      <th></th>\n",
              "      <th></th>\n",
              "    </tr>\n",
              "  </thead>\n",
              "  <tbody>\n",
              "    <tr>\n",
              "      <th>46785369</th>\n",
              "      <td>I was given a decision tree with sample data i...</td>\n",
              "      <td>&lt;math&gt;&lt;machine-learning&gt;&lt;artificial-intelligen...</td>\n",
              "      <td>Desecion trees ended up with same given tree a...</td>\n",
              "      <td>[given, decision, tree, sample, data, class, s...</td>\n",
              "      <td>[math, entropy]</td>\n",
              "      <td>[desecion, trees, ended, given, tree, computat...</td>\n",
              "      <td>[give, decision, tree, sample, data, class, so...</td>\n",
              "      <td>[math, entropy]</td>\n",
              "      <td>[desecion, tree, end, give, tree, computation]</td>\n",
              "      <td>give decision tree sample data class solve com...</td>\n",
              "      <td>desecion tree end give tree computation</td>\n",
              "      <td>math entropy</td>\n",
              "      <td>2</td>\n",
              "      <td>2</td>\n",
              "      <td>1</td>\n",
              "    </tr>\n",
              "    <tr>\n",
              "      <th>38908667</th>\n",
              "      <td>&lt;p&gt;I am moving a test application over to Xcod...</td>\n",
              "      <td>&lt;ios&gt;&lt;swift&gt;&lt;swift3&gt;&lt;xcode8&gt;&lt;nserror&gt;</td>\n",
              "      <td>Value of type 'Error' has no member 'code'</td>\n",
              "      <td>[p, moving, test, application, xcode, beta, co...</td>\n",
              "      <td>[ios, swift, nserror]</td>\n",
              "      <td>[value, type, member]</td>\n",
              "      <td>[p, move, test, application, xcode, beta, conv...</td>\n",
              "      <td>[io, swift, nserror]</td>\n",
              "      <td>[value, type, member]</td>\n",
              "      <td>move test application xcode beta convert code ...</td>\n",
              "      <td>value type member</td>\n",
              "      <td>io swift nserror</td>\n",
              "      <td>0</td>\n",
              "      <td>0</td>\n",
              "      <td>0</td>\n",
              "    </tr>\n",
              "    <tr>\n",
              "      <th>44703012</th>\n",
              "      <td>&lt;p&gt;I would like to be able to perform linting ...</td>\n",
              "      <td>&lt;jenkins&gt;&lt;jenkins-pipeline&gt;</td>\n",
              "      <td>How do I lint Jenkins pipelines from the comma...</td>\n",
              "      <td>[p, would, like, able, perform, linting, jenki...</td>\n",
              "      <td>[jenkins]</td>\n",
              "      <td>[lint, jenkins, pipelines, command, line]</td>\n",
              "      <td>[p, like, able, perform, linting, jenkins, pip...</td>\n",
              "      <td>[jenkins]</td>\n",
              "      <td>[lint, jenkins, pipeline, command, line]</td>\n",
              "      <td>like able perform linting jenkins pipeline see...</td>\n",
              "      <td>lint jenkins pipeline command line</td>\n",
              "      <td>jenkins</td>\n",
              "      <td>0</td>\n",
              "      <td>0</td>\n",
              "      <td>0</td>\n",
              "    </tr>\n",
              "    <tr>\n",
              "      <th>34910435</th>\n",
              "      <td>&lt;p&gt;I’m using &lt;a href=\"https://github.com/ftlab...</td>\n",
              "      <td>&lt;javascript&gt;&lt;css&gt;&lt;mobile-safari&gt;&lt;fastclick.js&gt;...</td>\n",
              "      <td>Is there a way to prevent fastclick from firin...</td>\n",
              "      <td>[p, using, https, fastclick, page, large, link...</td>\n",
              "      <td>[javascript, css, fastclick]</td>\n",
              "      <td>[way, prevent, fastclick, firing, active, stat...</td>\n",
              "      <td>[p, use, https, fastclick, page, large, link, ...</td>\n",
              "      <td>[javascript, cs, fastclick]</td>\n",
              "      <td>[way, prevent, fastclick, fire, active, state,...</td>\n",
              "      <td>use https fastclick page large link want bypas...</td>\n",
              "      <td>way prevent fastclick fire active state scroll</td>\n",
              "      <td>javascript cs fastclick</td>\n",
              "      <td>1</td>\n",
              "      <td>0</td>\n",
              "      <td>1</td>\n",
              "    </tr>\n",
              "    <tr>\n",
              "      <th>51632121</th>\n",
              "      <td>I have some 5 Test cases and I want them to ke...</td>\n",
              "      <td>&lt;android&gt;&lt;testing&gt;&lt;appium&gt;&lt;katalon-studio&gt;</td>\n",
              "      <td>How to loop test cases in katalon Studio?</td>\n",
              "      <td>[test, cases, want, keep, running, times, orde...</td>\n",
              "      <td>[android, testing, appium]</td>\n",
              "      <td>[loop, test, cases, katalon, studio]</td>\n",
              "      <td>[test, case, want, keep, run, time, order, ple...</td>\n",
              "      <td>[android, test, appium]</td>\n",
              "      <td>[loop, test, case, katalon, studio]</td>\n",
              "      <td>test case want keep run time order please help...</td>\n",
              "      <td>loop test case katalon studio</td>\n",
              "      <td>android test appium</td>\n",
              "      <td>1</td>\n",
              "      <td>2</td>\n",
              "      <td>2</td>\n",
              "    </tr>\n",
              "    <tr>\n",
              "      <th>51606103</th>\n",
              "      <td>&lt;p&gt;I would like to use TensorFlow Transform to...</td>\n",
              "      <td>&lt;tensorflow&gt;&lt;word2vec&gt;&lt;apache-beam&gt;&lt;tensorflow...</td>\n",
              "      <td>Converting tokens to word vectors effectively ...</td>\n",
              "      <td>[p, would, like, use, tensorflow, transform, c...</td>\n",
              "      <td>[tensorflow, glove]</td>\n",
              "      <td>[converting, tokens, word, vectors, effectivel...</td>\n",
              "      <td>[p, like, use, tensorflow, transform, convert,...</td>\n",
              "      <td>[tensorflow, glove]</td>\n",
              "      <td>[convert, token, word, vector, effectively, te...</td>\n",
              "      <td>like use tensorflow transform convert tokens w...</td>\n",
              "      <td>convert token word vector effectively tensorfl...</td>\n",
              "      <td>tensorflow glove</td>\n",
              "      <td>0</td>\n",
              "      <td>0</td>\n",
              "      <td>0</td>\n",
              "    </tr>\n",
              "    <tr>\n",
              "      <th>40083517</th>\n",
              "      <td>&lt;p&gt;I am fetching options for the dropdown menu...</td>\n",
              "      <td>&lt;javascript&gt;&lt;html&gt;&lt;css&gt;&lt;select2&gt;</td>\n",
              "      <td>How to remove lag when using more than 50,000 ...</td>\n",
              "      <td>[p, fetching, options, dropdown, menu, databas...</td>\n",
              "      <td>[javascript, html, css]</td>\n",
              "      <td>[remove, lag, using, options, select, tag, html]</td>\n",
              "      <td>[p, fetching, option, dropdown, menu, database...</td>\n",
              "      <td>[javascript, html, cs]</td>\n",
              "      <td>[remove, lag, use, option, select, tag, html]</td>\n",
              "      <td>fetching option dropdown menu database already...</td>\n",
              "      <td>remove lag use option select tag html</td>\n",
              "      <td>javascript html cs</td>\n",
              "      <td>2</td>\n",
              "      <td>2</td>\n",
              "      <td>2</td>\n",
              "    </tr>\n",
              "    <tr>\n",
              "      <th>46156990</th>\n",
              "      <td>i am using this xml file to create a page in a...</td>\n",
              "      <td>&lt;java&gt;&lt;android&gt;&lt;xml&gt;</td>\n",
              "      <td>Error on andriod xml layout</td>\n",
              "      <td>[using, xml, file, create, page, android, xml,...</td>\n",
              "      <td>[java, android, xml]</td>\n",
              "      <td>[error, andriod, xml, layout]</td>\n",
              "      <td>[use, xml, file, create, page, android, xml, x...</td>\n",
              "      <td>[java, android, xml]</td>\n",
              "      <td>[error, andriod, layout]</td>\n",
              "      <td>use xml file create page android xml xmlns htt...</td>\n",
              "      <td>error andriod layout</td>\n",
              "      <td>java android xml</td>\n",
              "      <td>2</td>\n",
              "      <td>2</td>\n",
              "      <td>2</td>\n",
              "    </tr>\n",
              "    <tr>\n",
              "      <th>46216185</th>\n",
              "      <td>&lt;p&gt;I am trying to make a method which would ac...</td>\n",
              "      <td>&lt;angular&gt;&lt;typescript&gt;&lt;loader&gt;&lt;ngx-translate&gt;</td>\n",
              "      <td>ngx-translate .instant returns key instead of ...</td>\n",
              "      <td>[p, trying, make, method, would, accept, strin...</td>\n",
              "      <td>[angular, typescript, loader]</td>\n",
              "      <td>[returns, key, instead, value]</td>\n",
              "      <td>[p, try, make, method, accept, string, key, re...</td>\n",
              "      <td>[angular, typescript, loader]</td>\n",
              "      <td>[return, key, instead, value]</td>\n",
              "      <td>try make method accept string key return trans...</td>\n",
              "      <td>return key instead value</td>\n",
              "      <td>angular typescript loader</td>\n",
              "      <td>0</td>\n",
              "      <td>0</td>\n",
              "      <td>0</td>\n",
              "    </tr>\n",
              "    <tr>\n",
              "      <th>35176091</th>\n",
              "      <td>&lt;p&gt;I have created a GRPC Server in C# using th...</td>\n",
              "      <td>&lt;c#&gt;&lt;grpc&gt;</td>\n",
              "      <td>How should a GRPC Service be hosted?</td>\n",
              "      <td>[p, created, grpc, server, c, using, example, ...</td>\n",
              "      <td>[c, grpc]</td>\n",
              "      <td>[grpc, service, hosted]</td>\n",
              "      <td>[p, create, grpc, server, c, use, example, giv...</td>\n",
              "      <td>[c, grpc]</td>\n",
              "      <td>[grpc, service, host]</td>\n",
              "      <td>create grpc server c use example give http nor...</td>\n",
              "      <td>grpc service host</td>\n",
              "      <td>c grpc</td>\n",
              "      <td>0</td>\n",
              "      <td>0</td>\n",
              "      <td>0</td>\n",
              "    </tr>\n",
              "  </tbody>\n",
              "</table>\n",
              "</div>"
            ],
            "text/plain": [
              "                                                       Body  ... SVM_target\n",
              "Id                                                           ...           \n",
              "46785369  I was given a decision tree with sample data i...  ...          1\n",
              "38908667  <p>I am moving a test application over to Xcod...  ...          0\n",
              "44703012  <p>I would like to be able to perform linting ...  ...          0\n",
              "34910435  <p>I’m using <a href=\"https://github.com/ftlab...  ...          1\n",
              "51632121  I have some 5 Test cases and I want them to ke...  ...          2\n",
              "51606103  <p>I would like to use TensorFlow Transform to...  ...          0\n",
              "40083517  <p>I am fetching options for the dropdown menu...  ...          2\n",
              "46156990  i am using this xml file to create a page in a...  ...          2\n",
              "46216185  <p>I am trying to make a method which would ac...  ...          0\n",
              "35176091  <p>I have created a GRPC Server in C# using th...  ...          0\n",
              "\n",
              "[10 rows x 15 columns]"
            ]
          },
          "metadata": {
            "tags": []
          },
          "execution_count": 99
        }
      ]
    },
    {
      "cell_type": "markdown",
      "metadata": {
        "id": "2KAnjxIQHLYm"
      },
      "source": [
        "#EDA"
      ]
    },
    {
      "cell_type": "markdown",
      "metadata": {
        "id": "xcNLcjrFKoqy"
      },
      "source": [
        "##Распределение по классам"
      ]
    },
    {
      "cell_type": "code",
      "metadata": {
        "id": "LlI9KnhgHKwg"
      },
      "source": [
        "import matplotlib.pyplot as plt\n",
        "\n",
        "def plot_target_donut(data):\n",
        "  rating_data = data.reset_index().groupby('target')[['Id']].count()\n",
        "  plt.figure(figsize = (12, 8))\n",
        "  plt.pie(rating_data, autopct = '%1.0f%%', startangle = 140, pctdistance = 1.1, shadow = True)\n",
        "  gap = plt.Circle((0, 0), 0.5, fc = 'white')\n",
        "  fig = plt.gcf()\n",
        "  fig.gca().add_artist(gap)\n",
        "  cols = []\n",
        "  for index, row in rating_data.iterrows():\n",
        "      cols.append(index)\n",
        "  plt.legend(cols)\n",
        "  plt.title('Donut Plot: SOF Questions by category', loc='center')\n",
        "  plt.show()"
      ],
      "execution_count": 12,
      "outputs": []
    },
    {
      "cell_type": "code",
      "metadata": {
        "colab": {
          "base_uri": "https://localhost:8080/",
          "height": 537
        },
        "id": "C7EcFHtMHR6o",
        "outputId": "0fa6e815-bc80-429c-8cde-d8e582cb29a7"
      },
      "source": [
        "plot_target_donut(data_train)"
      ],
      "execution_count": 13,
      "outputs": [
        {
          "output_type": "stream",
          "text": [
            "/usr/local/lib/python3.6/dist-packages/ipykernel_launcher.py:6: MatplotlibDeprecationWarning: Non-1D inputs to pie() are currently squeeze()d, but this behavior is deprecated since 3.1 and will be removed in 3.3; pass a 1D array instead.\n",
            "  \n"
          ],
          "name": "stderr"
        },
        {
          "output_type": "display_data",
          "data": {
            "image/png": "[encoded data removed]",
            "text/plain": [
              "<Figure size 864x576 with 1 Axes>"
            ]
          },
          "metadata": {
            "tags": []
          }
        }
      ]
    },
    {
      "cell_type": "markdown",
      "metadata": {
        "id": "B6nT84WxKtcg"
      },
      "source": [
        "Видим, что в тренировочной выборке распределение абсолютно равномерное."
      ]
    },
    {
      "cell_type": "markdown",
      "metadata": {
        "id": "dIWbwExKK5Jh"
      },
      "source": [
        "##Частота слов"
      ]
    },
    {
      "cell_type": "code",
      "metadata": {
        "colab": {
          "base_uri": "https://localhost:8080/"
        },
        "id": "FKmXIN-_UHgO",
        "outputId": "e6f4086e-4345-495d-988c-7e0a89f71765"
      },
      "source": [
        "from collections import Counter\n",
        "from itertools import islice\n",
        "for col in ['lemmatizedTitle', 'lemmatizedBody', 'lemmatizedTags']:\n",
        "  token_counts = Counter(word for item in data_train[col]\n",
        "                              for word in item)\n",
        "  print(col + ':', token_counts.most_common(20))"
      ],
      "execution_count": 108,
      "outputs": [
        {
          "output_type": "stream",
          "text": [
            "lemmatizedTitle: [('use', 5165), ('get', 2698), ('python', 2586), ('error', 2558), ('file', 2556), ('string', 2398), ('value', 2397), ('array', 2269), ('c', 2130), ('android', 1943), ('code', 1896), ('function', 1895), ('java', 1795), ('work', 1607), ('data', 1549), ('list', 1541), ('php', 1476), ('javascript', 1381), ('create', 1377), ('number', 1357)]\n",
            "lemmatizedBody: [('p', 110947), ('code', 82215), ('gt', 70747), ('lt', 66606), ('pre', 32824), ('use', 31866), ('string', 22033), ('int', 21498), ('new', 20736), ('http', 20382), ('get', 20222), ('return', 18147), ('error', 18064), ('try', 17806), ('file', 17483), ('want', 16363), ('public', 15473), ('function', 14539), ('work', 13504), ('value', 13334)]\n",
            "lemmatizedTags: [('javascript', 5638), ('python', 5480), ('java', 5031), ('c', 4870), ('android', 3880), ('php', 3355), ('html', 2694), ('cs', 1672), ('io', 1473), ('array', 1468), ('jquery', 1448), ('sql', 1320), ('mysql', 1254), ('swift', 1252), ('angular', 1193), ('reactjs', 948), ('r', 917), ('regex', 907), ('string', 798), ('json', 774)]\n"
          ],
          "name": "stdout"
        }
      ]
    },
    {
      "cell_type": "markdown",
      "metadata": {
        "id": "6dLBIvO0Mwc-"
      },
      "source": [
        "Бросается в глаза `p` - с позволения сказать, *слово*, сохранившееся в \"телах\" вопросов (на самом деле, не замеченный нами ранее HTML-тэг). На мгновение вернёмся к предобработке и очистим наши данные от этого тэга."
      ]
    },
    {
      "cell_type": "code",
      "metadata": {
        "id": "5Lv53jp-Vd7C"
      },
      "source": [
        "def clean_data_from_tags(data):\n",
        "  data['lemmatizedBody'] = data.apply(lambda row: [word for word in row['lemmatizedBody'] if word != 'p'], axis=1)\n",
        "clean_data_from_tags(data_train)\n",
        "clean_data_from_tags(data_test)"
      ],
      "execution_count": 109,
      "outputs": []
    },
    {
      "cell_type": "code",
      "metadata": {
        "colab": {
          "base_uri": "https://localhost:8080/"
        },
        "id": "G-T8FzBuWniT",
        "outputId": "90f96383-ec66-4122-bb55-ae18500d3fa5"
      },
      "source": [
        "token_counts = Counter(word for item in data_train['lemmatizedBody']\n",
        "                            for word in item)\n",
        "print(token_counts.most_common(20))"
      ],
      "execution_count": 110,
      "outputs": [
        {
          "output_type": "stream",
          "text": [
            "[('code', 82215), ('gt', 70747), ('lt', 66606), ('pre', 32824), ('use', 31866), ('string', 22033), ('int', 21498), ('new', 20736), ('http', 20382), ('get', 20222), ('return', 18147), ('error', 18064), ('try', 17806), ('file', 17483), ('want', 16363), ('public', 15473), ('function', 14539), ('work', 13504), ('value', 13334), ('class', 13330)]\n"
          ],
          "name": "stdout"
        }
      ]
    },
    {
      "cell_type": "markdown",
      "metadata": {
        "id": "XgLHIsLWK-kj"
      },
      "source": [
        "##Влияние факта наличия тэгов"
      ]
    },
    {
      "cell_type": "code",
      "metadata": {
        "colab": {
          "base_uri": "https://localhost:8080/",
          "height": 206
        },
        "id": "m3B-scj3F6q6",
        "outputId": "de0ec82d-654c-4a28-97bd-e6c2efeaf153"
      },
      "source": [
        "data_train['hasTags'] = data_train.apply(lambda row: len(row['lemmatizedTags']) > 0, axis=1)\n",
        "data_train[['target', 'hasTags']].groupby('target').describe()"
      ],
      "execution_count": 17,
      "outputs": [
        {
          "output_type": "execute_result",
          "data": {
            "text/html": [
              "<div>\n",
              "<style scoped>\n",
              "    .dataframe tbody tr th:only-of-type {\n",
              "        vertical-align: middle;\n",
              "    }\n",
              "\n",
              "    .dataframe tbody tr th {\n",
              "        vertical-align: top;\n",
              "    }\n",
              "\n",
              "    .dataframe thead tr th {\n",
              "        text-align: left;\n",
              "    }\n",
              "\n",
              "    .dataframe thead tr:last-of-type th {\n",
              "        text-align: right;\n",
              "    }\n",
              "</style>\n",
              "<table border=\"1\" class=\"dataframe\">\n",
              "  <thead>\n",
              "    <tr>\n",
              "      <th></th>\n",
              "      <th colspan=\"4\" halign=\"left\">hasTags</th>\n",
              "    </tr>\n",
              "    <tr>\n",
              "      <th></th>\n",
              "      <th>count</th>\n",
              "      <th>unique</th>\n",
              "      <th>top</th>\n",
              "      <th>freq</th>\n",
              "    </tr>\n",
              "    <tr>\n",
              "      <th>target</th>\n",
              "      <th></th>\n",
              "      <th></th>\n",
              "      <th></th>\n",
              "      <th></th>\n",
              "    </tr>\n",
              "  </thead>\n",
              "  <tbody>\n",
              "    <tr>\n",
              "      <th>0</th>\n",
              "      <td>16000</td>\n",
              "      <td>2</td>\n",
              "      <td>True</td>\n",
              "      <td>14528</td>\n",
              "    </tr>\n",
              "    <tr>\n",
              "      <th>1</th>\n",
              "      <td>16000</td>\n",
              "      <td>2</td>\n",
              "      <td>True</td>\n",
              "      <td>15231</td>\n",
              "    </tr>\n",
              "    <tr>\n",
              "      <th>2</th>\n",
              "      <td>16000</td>\n",
              "      <td>2</td>\n",
              "      <td>True</td>\n",
              "      <td>15186</td>\n",
              "    </tr>\n",
              "  </tbody>\n",
              "</table>\n",
              "</div>"
            ],
            "text/plain": [
              "       hasTags                    \n",
              "         count unique   top   freq\n",
              "target                            \n",
              "0        16000      2  True  14528\n",
              "1        16000      2  True  15231\n",
              "2        16000      2  True  15186"
            ]
          },
          "metadata": {
            "tags": []
          },
          "execution_count": 17
        }
      ]
    },
    {
      "cell_type": "markdown",
      "metadata": {
        "id": "rUkXmn6ONoHo"
      },
      "source": [
        "Видим, что доля вопросов с тэгами примерно одинаковая во всех категориях. Сам по себе этот факт вряд ли повлияет на поведение наших моделей."
      ]
    },
    {
      "cell_type": "code",
      "metadata": {
        "id": "zmZ6UHJ7LRFs"
      },
      "source": [
        "data_train.drop('hasTags', axis=1)"
      ],
      "execution_count": null,
      "outputs": []
    },
    {
      "cell_type": "markdown",
      "metadata": {
        "id": "Y9mv8l2qLLzo"
      },
      "source": [
        "##Влияние длины заголовка и основного вопроса"
      ]
    },
    {
      "cell_type": "code",
      "metadata": {
        "colab": {
          "base_uri": "https://localhost:8080/",
          "height": 206
        },
        "id": "gcmLdfiRLy6h",
        "outputId": "66414cb9-c3fa-4d77-e071-a35c86e9ea19"
      },
      "source": [
        "data_train['titleLength'] = data_train.apply(lambda row: len(row['lemmatizedTitle']), axis=1)\n",
        "data_train[['target', 'titleLength']].groupby('target').describe()"
      ],
      "execution_count": 19,
      "outputs": [
        {
          "output_type": "execute_result",
          "data": {
            "text/html": [
              "<div>\n",
              "<style scoped>\n",
              "    .dataframe tbody tr th:only-of-type {\n",
              "        vertical-align: middle;\n",
              "    }\n",
              "\n",
              "    .dataframe tbody tr th {\n",
              "        vertical-align: top;\n",
              "    }\n",
              "\n",
              "    .dataframe thead tr th {\n",
              "        text-align: left;\n",
              "    }\n",
              "\n",
              "    .dataframe thead tr:last-of-type th {\n",
              "        text-align: right;\n",
              "    }\n",
              "</style>\n",
              "<table border=\"1\" class=\"dataframe\">\n",
              "  <thead>\n",
              "    <tr>\n",
              "      <th></th>\n",
              "      <th colspan=\"8\" halign=\"left\">titleLength</th>\n",
              "    </tr>\n",
              "    <tr>\n",
              "      <th></th>\n",
              "      <th>count</th>\n",
              "      <th>mean</th>\n",
              "      <th>std</th>\n",
              "      <th>min</th>\n",
              "      <th>25%</th>\n",
              "      <th>50%</th>\n",
              "      <th>75%</th>\n",
              "      <th>max</th>\n",
              "    </tr>\n",
              "    <tr>\n",
              "      <th>target</th>\n",
              "      <th></th>\n",
              "      <th></th>\n",
              "      <th></th>\n",
              "      <th></th>\n",
              "      <th></th>\n",
              "      <th></th>\n",
              "      <th></th>\n",
              "      <th></th>\n",
              "    </tr>\n",
              "  </thead>\n",
              "  <tbody>\n",
              "    <tr>\n",
              "      <th>0</th>\n",
              "      <td>16000.0</td>\n",
              "      <td>5.052562</td>\n",
              "      <td>1.962916</td>\n",
              "      <td>0.0</td>\n",
              "      <td>4.0</td>\n",
              "      <td>5.0</td>\n",
              "      <td>6.0</td>\n",
              "      <td>16.0</td>\n",
              "    </tr>\n",
              "    <tr>\n",
              "      <th>1</th>\n",
              "      <td>16000.0</td>\n",
              "      <td>5.015813</td>\n",
              "      <td>1.966483</td>\n",
              "      <td>0.0</td>\n",
              "      <td>4.0</td>\n",
              "      <td>5.0</td>\n",
              "      <td>6.0</td>\n",
              "      <td>17.0</td>\n",
              "    </tr>\n",
              "    <tr>\n",
              "      <th>2</th>\n",
              "      <td>16000.0</td>\n",
              "      <td>5.527000</td>\n",
              "      <td>2.366352</td>\n",
              "      <td>0.0</td>\n",
              "      <td>4.0</td>\n",
              "      <td>5.0</td>\n",
              "      <td>7.0</td>\n",
              "      <td>19.0</td>\n",
              "    </tr>\n",
              "  </tbody>\n",
              "</table>\n",
              "</div>"
            ],
            "text/plain": [
              "       titleLength                                              \n",
              "             count      mean       std  min  25%  50%  75%   max\n",
              "target                                                          \n",
              "0          16000.0  5.052562  1.962916  0.0  4.0  5.0  6.0  16.0\n",
              "1          16000.0  5.015813  1.966483  0.0  4.0  5.0  6.0  17.0\n",
              "2          16000.0  5.527000  2.366352  0.0  4.0  5.0  7.0  19.0"
            ]
          },
          "metadata": {
            "tags": []
          },
          "execution_count": 19
        }
      ]
    },
    {
      "cell_type": "code",
      "metadata": {
        "colab": {
          "base_uri": "https://localhost:8080/",
          "height": 175
        },
        "id": "TGNJ-LF2PEcC",
        "outputId": "411392cf-5cb0-4cdc-9be9-43e6ee596958"
      },
      "source": [
        "data_train[['target', 'titleLength']].groupby('target').median()"
      ],
      "execution_count": 96,
      "outputs": [
        {
          "output_type": "execute_result",
          "data": {
            "text/html": [
              "<div>\n",
              "<style scoped>\n",
              "    .dataframe tbody tr th:only-of-type {\n",
              "        vertical-align: middle;\n",
              "    }\n",
              "\n",
              "    .dataframe tbody tr th {\n",
              "        vertical-align: top;\n",
              "    }\n",
              "\n",
              "    .dataframe thead th {\n",
              "        text-align: right;\n",
              "    }\n",
              "</style>\n",
              "<table border=\"1\" class=\"dataframe\">\n",
              "  <thead>\n",
              "    <tr style=\"text-align: right;\">\n",
              "      <th></th>\n",
              "      <th>titleLength</th>\n",
              "    </tr>\n",
              "    <tr>\n",
              "      <th>target</th>\n",
              "      <th></th>\n",
              "    </tr>\n",
              "  </thead>\n",
              "  <tbody>\n",
              "    <tr>\n",
              "      <th>0</th>\n",
              "      <td>5</td>\n",
              "    </tr>\n",
              "    <tr>\n",
              "      <th>1</th>\n",
              "      <td>5</td>\n",
              "    </tr>\n",
              "    <tr>\n",
              "      <th>2</th>\n",
              "      <td>5</td>\n",
              "    </tr>\n",
              "  </tbody>\n",
              "</table>\n",
              "</div>"
            ],
            "text/plain": [
              "        titleLength\n",
              "target             \n",
              "0                 5\n",
              "1                 5\n",
              "2                 5"
            ]
          },
          "metadata": {
            "tags": []
          },
          "execution_count": 96
        }
      ]
    },
    {
      "cell_type": "markdown",
      "metadata": {
        "id": "5FB9KpavOCpr"
      },
      "source": [
        "Видим, что заголовки вопросов из 2 (самой \"плохой\") категории в среднем длиннее, хотя медиана совпадает по всем значениям таргета (т.е. просто есть небольшой кластер \"особо длинных\" заголовков, преимущественно относящийся ко 2 категории). Эмпирически легко подтвердить, что чем длиннее заголовок, тем противнее вопрос... Посмотрим теперь на длину основного текста вопроса."
      ]
    },
    {
      "cell_type": "code",
      "metadata": {
        "colab": {
          "base_uri": "https://localhost:8080/",
          "height": 206
        },
        "id": "7WnvF2V4MnxG",
        "outputId": "f55bfce2-099b-4127-849e-19000342c150"
      },
      "source": [
        "data_train['bodyLength'] = data_train.apply(lambda row: len(row['lemmatizedBody']), axis=1)\n",
        "data_train[['target', 'bodyLength']].groupby('target').describe()"
      ],
      "execution_count": 20,
      "outputs": [
        {
          "output_type": "execute_result",
          "data": {
            "text/html": [
              "<div>\n",
              "<style scoped>\n",
              "    .dataframe tbody tr th:only-of-type {\n",
              "        vertical-align: middle;\n",
              "    }\n",
              "\n",
              "    .dataframe tbody tr th {\n",
              "        vertical-align: top;\n",
              "    }\n",
              "\n",
              "    .dataframe thead tr th {\n",
              "        text-align: left;\n",
              "    }\n",
              "\n",
              "    .dataframe thead tr:last-of-type th {\n",
              "        text-align: right;\n",
              "    }\n",
              "</style>\n",
              "<table border=\"1\" class=\"dataframe\">\n",
              "  <thead>\n",
              "    <tr>\n",
              "      <th></th>\n",
              "      <th colspan=\"8\" halign=\"left\">bodyLength</th>\n",
              "    </tr>\n",
              "    <tr>\n",
              "      <th></th>\n",
              "      <th>count</th>\n",
              "      <th>mean</th>\n",
              "      <th>std</th>\n",
              "      <th>min</th>\n",
              "      <th>25%</th>\n",
              "      <th>50%</th>\n",
              "      <th>75%</th>\n",
              "      <th>max</th>\n",
              "    </tr>\n",
              "    <tr>\n",
              "      <th>target</th>\n",
              "      <th></th>\n",
              "      <th></th>\n",
              "      <th></th>\n",
              "      <th></th>\n",
              "      <th></th>\n",
              "      <th></th>\n",
              "      <th></th>\n",
              "      <th></th>\n",
              "    </tr>\n",
              "  </thead>\n",
              "  <tbody>\n",
              "    <tr>\n",
              "      <th>0</th>\n",
              "      <td>16000.0</td>\n",
              "      <td>66.437562</td>\n",
              "      <td>65.080606</td>\n",
              "      <td>3.0</td>\n",
              "      <td>30.0</td>\n",
              "      <td>50.0</td>\n",
              "      <td>81.25</td>\n",
              "      <td>1640.0</td>\n",
              "    </tr>\n",
              "    <tr>\n",
              "      <th>1</th>\n",
              "      <td>16000.0</td>\n",
              "      <td>51.124063</td>\n",
              "      <td>78.665265</td>\n",
              "      <td>1.0</td>\n",
              "      <td>19.0</td>\n",
              "      <td>32.0</td>\n",
              "      <td>56.00</td>\n",
              "      <td>2531.0</td>\n",
              "    </tr>\n",
              "    <tr>\n",
              "      <th>2</th>\n",
              "      <td>16000.0</td>\n",
              "      <td>52.320875</td>\n",
              "      <td>67.683466</td>\n",
              "      <td>0.0</td>\n",
              "      <td>20.0</td>\n",
              "      <td>34.0</td>\n",
              "      <td>59.00</td>\n",
              "      <td>1944.0</td>\n",
              "    </tr>\n",
              "  </tbody>\n",
              "</table>\n",
              "</div>"
            ],
            "text/plain": [
              "       bodyLength                                                      \n",
              "            count       mean        std  min   25%   50%    75%     max\n",
              "target                                                                 \n",
              "0         16000.0  66.437562  65.080606  3.0  30.0  50.0  81.25  1640.0\n",
              "1         16000.0  51.124063  78.665265  1.0  19.0  32.0  56.00  2531.0\n",
              "2         16000.0  52.320875  67.683466  0.0  20.0  34.0  59.00  1944.0"
            ]
          },
          "metadata": {
            "tags": []
          },
          "execution_count": 20
        }
      ]
    },
    {
      "cell_type": "code",
      "metadata": {
        "colab": {
          "base_uri": "https://localhost:8080/",
          "height": 175
        },
        "id": "IwoLfBLeM9RK",
        "outputId": "79db0758-8536-4afd-ddb1-71dfc273b1d4"
      },
      "source": [
        "data_train[['target', 'bodyLength']].groupby('target').median()"
      ],
      "execution_count": 21,
      "outputs": [
        {
          "output_type": "execute_result",
          "data": {
            "text/html": [
              "<div>\n",
              "<style scoped>\n",
              "    .dataframe tbody tr th:only-of-type {\n",
              "        vertical-align: middle;\n",
              "    }\n",
              "\n",
              "    .dataframe tbody tr th {\n",
              "        vertical-align: top;\n",
              "    }\n",
              "\n",
              "    .dataframe thead th {\n",
              "        text-align: right;\n",
              "    }\n",
              "</style>\n",
              "<table border=\"1\" class=\"dataframe\">\n",
              "  <thead>\n",
              "    <tr style=\"text-align: right;\">\n",
              "      <th></th>\n",
              "      <th>bodyLength</th>\n",
              "    </tr>\n",
              "    <tr>\n",
              "      <th>target</th>\n",
              "      <th></th>\n",
              "    </tr>\n",
              "  </thead>\n",
              "  <tbody>\n",
              "    <tr>\n",
              "      <th>0</th>\n",
              "      <td>50</td>\n",
              "    </tr>\n",
              "    <tr>\n",
              "      <th>1</th>\n",
              "      <td>32</td>\n",
              "    </tr>\n",
              "    <tr>\n",
              "      <th>2</th>\n",
              "      <td>34</td>\n",
              "    </tr>\n",
              "  </tbody>\n",
              "</table>\n",
              "</div>"
            ],
            "text/plain": [
              "        bodyLength\n",
              "target            \n",
              "0               50\n",
              "1               32\n",
              "2               34"
            ]
          },
          "metadata": {
            "tags": []
          },
          "execution_count": 21
        }
      ]
    },
    {
      "cell_type": "markdown",
      "metadata": {
        "id": "yyZKVKpSO9Rq"
      },
      "source": [
        "Видим, что \"хорошие\" вопросы в среднем длиннее. На \"сгруппированной\" гистограмме кол-ва вопросов это будет отражаться в \"хвосте\" графика - убедимся же в этом."
      ]
    },
    {
      "cell_type": "code",
      "metadata": {
        "colab": {
          "base_uri": "https://localhost:8080/",
          "height": 1000
        },
        "id": "BEn673SUOmm_",
        "outputId": "034bf19c-d7be-4313-c680-db77eaca1920"
      },
      "source": [
        "import seaborn as sns\n",
        "\n",
        "plt.figure(figsize = (60, 45))\n",
        "sns.histplot(data=data_train, x='bodyLength', hue='target')"
      ],
      "execution_count": 22,
      "outputs": [
        {
          "output_type": "execute_result",
          "data": {
            "text/plain": [
              "<matplotlib.axes._subplots.AxesSubplot at 0x7f2f9498e240>"
            ]
          },
          "metadata": {
            "tags": []
          },
          "execution_count": 22
        },
        {
          "output_type": "display_data",
          "data": {
            "image/png": "[encoded data removed]",
            "text/plain": [
              "<Figure size 4320x3240 with 1 Axes>"
            ]
          },
          "metadata": {
            "tags": [],
            "needs_background": "light"
          }
        }
      ]
    },
    {
      "cell_type": "markdown",
      "metadata": {
        "id": "LKU6LqQdQxSe"
      },
      "source": [
        "Ну и, для общего порядка, визуализируем связь между длиной заголовка и длиной текста."
      ]
    },
    {
      "cell_type": "code",
      "metadata": {
        "colab": {
          "base_uri": "https://localhost:8080/",
          "height": 296
        },
        "id": "PwRL_ZYKXBtb",
        "outputId": "64b91c02-a2c7-45d0-9be8-a5e5e96465df"
      },
      "source": [
        "sns.scatterplot(data=data_train, x='titleLength', y='bodyLength', hue='target', size='target')"
      ],
      "execution_count": 23,
      "outputs": [
        {
          "output_type": "execute_result",
          "data": {
            "text/plain": [
              "<matplotlib.axes._subplots.AxesSubplot at 0x7f2f94411668>"
            ]
          },
          "metadata": {
            "tags": []
          },
          "execution_count": 23
        },
        {
          "output_type": "display_data",
          "data": {
            "image/png": "[encoded data removed]",
            "text/plain": [
              "<Figure size 432x288 with 1 Axes>"
            ]
          },
          "metadata": {
            "tags": [],
            "needs_background": "light"
          }
        }
      ]
    },
    {
      "cell_type": "markdown",
      "metadata": {
        "id": "eJwGqJtjRAUt"
      },
      "source": [
        "Сделать какие-либо содержательные выводы сложно, хотя бросается в глаза небольшой \"кластер выбросов\" с длинным текстом вопроса и коротким заголовком, относящийся к категории \"плохих, но активных\" вопросов."
      ]
    },
    {
      "cell_type": "markdown",
      "metadata": {
        "id": "VeyYw1eJWlM_"
      },
      "source": [
        "#Векторизация/embedding"
      ]
    },
    {
      "cell_type": "code",
      "metadata": {
        "id": "p78lOWjOYS0L"
      },
      "source": [
        "def merge_list_to_text(data):\n",
        "  merged_colname_postfix = 'Text'\n",
        "  for col in ['lemmatizedBody', 'lemmatizedTitle', 'lemmatizedTags']:\n",
        "    data[col + merged_colname_postfix] = data.apply(lambda row: \" \".join(word for word in row[col]), axis=1)"
      ],
      "execution_count": 27,
      "outputs": []
    },
    {
      "cell_type": "code",
      "metadata": {
        "id": "CgHyrJ_XZJUN"
      },
      "source": [
        "merge_list_to_text(data_train)\n",
        "merge_list_to_text(data_test)"
      ],
      "execution_count": 30,
      "outputs": []
    },
    {
      "cell_type": "code",
      "metadata": {
        "id": "tafNqWrvZlS2"
      },
      "source": [
        "# Save intermediate results\n",
        "data_train[['target', 'lemmatizedTitleText', 'lemmatizedTagsText', 'lemmatizedBodyText']].to_csv(work_dir + 'train_pre_embed.csv')\n",
        "data_test[['lemmatizedTitleText', 'lemmatizedTagsText', 'lemmatizedBodyText']].to_csv(work_dir + 'test_pre_embed.csv')"
      ],
      "execution_count": 33,
      "outputs": []
    },
    {
      "cell_type": "code",
      "metadata": {
        "id": "kahI8CY8WsTi"
      },
      "source": [
        "from sklearn.feature_extraction.text import TfidfVectorizer\n",
        "vectorizer = TfidfVectorizer()\n",
        "\n",
        "train_vec_Body = vectorizer.fit_transform(data_train['lemmatizedBodyText'])\n",
        "test_vec_Body = vectorizer.transform(data_test['lemmatizedBodyText'])\n",
        "train_vec_Tags = vectorizer.fit_transform(data_train['lemmatizedTagsText'])\n",
        "test_vec_Tags = vectorizer.transform(data_test['lemmatizedTagsText'])\n",
        "train_vec_Title = vectorizer.fit_transform(data_train['lemmatizedTitleText'])\n",
        "test_vec_Title = vectorizer.transform(data_test['lemmatizedTitleText'])"
      ],
      "execution_count": 43,
      "outputs": []
    },
    {
      "cell_type": "code",
      "metadata": {
        "id": "c8QQ9mj-vSw2"
      },
      "source": [
        "from scipy.sparse import hstack"
      ],
      "execution_count": 53,
      "outputs": []
    },
    {
      "cell_type": "code",
      "metadata": {
        "colab": {
          "base_uri": "https://localhost:8080/"
        },
        "id": "uHllYczwv0uu",
        "outputId": "2c08e48e-452e-4222-a2e6-255b025e2612"
      },
      "source": [
        "X_train_pre_split = hstack((train_vec_Title, train_vec_Body, train_vec_Tags))\n",
        "Y_train_pre_split = data_train['target']\n",
        "X_test = hstack((test_vec_Title, test_vec_Body, test_vec_Tags))\n",
        "X_test.shape"
      ],
      "execution_count": 65,
      "outputs": [
        {
          "output_type": "execute_result",
          "data": {
            "text/plain": [
              "(12000, 109753)"
            ]
          },
          "metadata": {
            "tags": []
          },
          "execution_count": 65
        }
      ]
    },
    {
      "cell_type": "markdown",
      "metadata": {
        "id": "bpy1U8a1yqGc"
      },
      "source": [
        "#Classic ML algorithms"
      ]
    },
    {
      "cell_type": "markdown",
      "metadata": {
        "id": "qWpuQK-114wZ"
      },
      "source": [
        "##Разбиение на тренировочную и валидационную выборки"
      ]
    },
    {
      "cell_type": "code",
      "metadata": {
        "id": "-1sRXEr119v4"
      },
      "source": [
        "from sklearn.model_selection import train_test_split\n",
        "X_train, X_valid, Y_train, Y_valid = train_test_split(X_train_pre_split, Y_train_pre_split, test_size=0.5, random_state=42)"
      ],
      "execution_count": 69,
      "outputs": []
    },
    {
      "cell_type": "markdown",
      "metadata": {
        "id": "2MeqfI2CAWl3"
      },
      "source": [
        "##Generic prediction method"
      ]
    },
    {
      "cell_type": "code",
      "metadata": {
        "id": "zu42z7jKJB_e"
      },
      "source": [
        "#import os\n",
        "#os.mkdir(work_dir + 'Lab 1 - Results')"
      ],
      "execution_count": 95,
      "outputs": []
    },
    {
      "cell_type": "code",
      "metadata": {
        "id": "O0q3EOa3AV09"
      },
      "source": [
        "from sklearn.metrics import classification_report\n",
        "\n",
        "def run_classifier(classifier, name):\n",
        "  classifier.fit(X_train, Y_train)\n",
        "  print(classification_report(Y_valid, classifier.predict(X_valid), labels=[0, 1, 2]))\n",
        "  test_colname = name + '_target'\n",
        "  data_test[test_colname] = classifier.predict(X_test)\n",
        "  data_test.reset_index()[['Id', test_colname]].to_csv(work_dir + 'Lab 1 - Results/' + name + '_test.csv')"
      ],
      "execution_count": 93,
      "outputs": []
    },
    {
      "cell_type": "markdown",
      "metadata": {
        "id": "yN3CJXSDzIM0"
      },
      "source": [
        "##Logistic regression"
      ]
    },
    {
      "cell_type": "code",
      "metadata": {
        "colab": {
          "base_uri": "https://localhost:8080/"
        },
        "id": "Mvu7x5Z6zLY-",
        "outputId": "6a5b4e59-5216-4744-ae2b-3bef890f802c"
      },
      "source": [
        "from sklearn.linear_model import LogisticRegression\n",
        "LR_classifier = LogisticRegression(max_iter=200000)\n",
        "run_classifier(LR_classifier, 'LogReg')"
      ],
      "execution_count": 83,
      "outputs": [
        {
          "output_type": "stream",
          "text": [
            "              precision    recall  f1-score   support\n",
            "\n",
            "           0       0.85      0.86      0.85      7952\n",
            "           1       0.77      0.70      0.74      8040\n",
            "           2       0.79      0.85      0.82      8008\n",
            "\n",
            "    accuracy                           0.80     24000\n",
            "   macro avg       0.80      0.80      0.80     24000\n",
            "weighted avg       0.80      0.80      0.80     24000\n",
            "\n"
          ],
          "name": "stdout"
        }
      ]
    },
    {
      "cell_type": "markdown",
      "metadata": {
        "id": "RfgM9sJwEjne"
      },
      "source": [
        "##SVM"
      ]
    },
    {
      "cell_type": "code",
      "metadata": {
        "colab": {
          "base_uri": "https://localhost:8080/"
        },
        "id": "BiqIW-TMEig5",
        "outputId": "a9eaee90-d156-48df-aada-a4fa1096fda4"
      },
      "source": [
        "from sklearn.svm import SVC\n",
        "SVM_classifier = SVC()\n",
        "run_classifier(SVM_classifier, 'SVM')"
      ],
      "execution_count": 87,
      "outputs": [
        {
          "output_type": "stream",
          "text": [
            "              precision    recall  f1-score   support\n",
            "\n",
            "           0       0.84      0.86      0.85      7952\n",
            "           1       0.78      0.66      0.72      8040\n",
            "           2       0.76      0.86      0.81      8008\n",
            "\n",
            "    accuracy                           0.79     24000\n",
            "   macro avg       0.79      0.79      0.79     24000\n",
            "weighted avg       0.79      0.79      0.79     24000\n",
            "\n"
          ],
          "name": "stdout"
        }
      ]
    },
    {
      "cell_type": "markdown",
      "metadata": {
        "id": "CDKRR8jkC2FO"
      },
      "source": [
        "##Random Forest"
      ]
    },
    {
      "cell_type": "code",
      "metadata": {
        "colab": {
          "base_uri": "https://localhost:8080/"
        },
        "id": "2U5oHQD4C-H4",
        "outputId": "f612b751-d2ab-4cdc-f74d-c3d1a76ceea1"
      },
      "source": [
        "from sklearn.ensemble import RandomForestClassifier\n",
        "RandForest_classifier = RandomForestClassifier()\n",
        "run_classifier(RandForest_classifier, 'RandForest')"
      ],
      "execution_count": 97,
      "outputs": [
        {
          "output_type": "stream",
          "text": [
            "              precision    recall  f1-score   support\n",
            "\n",
            "           0       0.82      0.83      0.83      7952\n",
            "           1       0.77      0.69      0.73      8040\n",
            "           2       0.79      0.87      0.83      8008\n",
            "\n",
            "    accuracy                           0.79     24000\n",
            "   macro avg       0.79      0.79      0.79     24000\n",
            "weighted avg       0.79      0.79      0.79     24000\n",
            "\n"
          ],
          "name": "stdout"
        }
      ]
    },
    {
      "cell_type": "markdown",
      "metadata": {
        "id": "uNhR1BBKD0XB"
      },
      "source": [
        "##Desicion Tree"
      ]
    },
    {
      "cell_type": "code",
      "metadata": {
        "colab": {
          "base_uri": "https://localhost:8080/"
        },
        "id": "4G9cyAb2D3PV",
        "outputId": "6b928461-c6a8-4b2f-cd2d-d7ea08bdeee5"
      },
      "source": [
        "from sklearn.tree import DecisionTreeClassifier\n",
        "DecTree_classifier = DecisionTreeClassifier()\n",
        "run_classifier(RandForest_classifier, 'DecisionTree')"
      ],
      "execution_count": 94,
      "outputs": [
        {
          "output_type": "stream",
          "text": [
            "              precision    recall  f1-score   support\n",
            "\n",
            "           0       0.83      0.83      0.83      7952\n",
            "           1       0.78      0.70      0.74      8040\n",
            "           2       0.79      0.87      0.83      8008\n",
            "\n",
            "    accuracy                           0.80     24000\n",
            "   macro avg       0.80      0.80      0.80     24000\n",
            "weighted avg       0.80      0.80      0.80     24000\n",
            "\n"
          ],
          "name": "stdout"
        }
      ]
    }
  ]
}